{
 "cells": [
  {
   "cell_type": "code",
   "execution_count": 2,
   "id": "89177509-1832-4aae-a83f-fb3f6e83aeed",
   "metadata": {},
   "outputs": [],
   "source": [
    "import numpy as np"
   ]
  },
  {
   "cell_type": "code",
   "execution_count": 4,
   "id": "9c56663f-606a-41bb-805e-e02ad35a34f8",
   "metadata": {},
   "outputs": [],
   "source": [
    "py_list = [1,2,3]\n",
    "num_arr = np.array([1,2,3])"
   ]
  },
  {
   "cell_type": "code",
   "execution_count": 17,
   "id": "a53b661c-c8bd-4a43-9377-d4ce8ddfbc67",
   "metadata": {},
   "outputs": [
    {
     "name": "stdout",
     "output_type": "stream",
     "text": [
      "[1, 2, 3]\n",
      "[1 2 3 4]\n"
     ]
    }
   ],
   "source": [
    "print(py_list)\n",
    "print(num_arr)"
   ]
  },
  {
   "cell_type": "code",
   "execution_count": 18,
   "id": "46e4dfae-0e02-4c9b-846f-29ea88816f81",
   "metadata": {},
   "outputs": [],
   "source": [
    "num_arr = np.insert(num_arr,1,10)"
   ]
  },
  {
   "cell_type": "code",
   "execution_count": 19,
   "id": "8d7c11da-6f22-4f02-9c82-993df341bac1",
   "metadata": {},
   "outputs": [
    {
     "name": "stdout",
     "output_type": "stream",
     "text": [
      "[ 1 10  2  3  4]\n"
     ]
    }
   ],
   "source": [
    "print(num_arr)"
   ]
  },
  {
   "cell_type": "code",
   "execution_count": 20,
   "id": "b69646bb-418d-4756-bf6c-8b17bbb0ed01",
   "metadata": {},
   "outputs": [
    {
     "name": "stdout",
     "output_type": "stream",
     "text": [
      "[1 2 3 4]\n"
     ]
    }
   ],
   "source": [
    "num_arr = np.delete(num_arr,1)\n",
    "print(num_arr)"
   ]
  },
  {
   "cell_type": "code",
   "execution_count": 22,
   "id": "52ff7e36-dc79-432b-8579-55fbff05fa07",
   "metadata": {},
   "outputs": [
    {
     "name": "stdout",
     "output_type": "stream",
     "text": [
      "4\n",
      "1\n"
     ]
    }
   ],
   "source": [
    "max = np.max(num_arr)\n",
    "print(max)\n",
    "min = np.min(num_arr)\n",
    "print(min)"
   ]
  },
  {
   "cell_type": "code",
   "execution_count": 24,
   "id": "c3cd625d-8796-4cf9-a9dd-764507213fb0",
   "metadata": {},
   "outputs": [
    {
     "name": "stdout",
     "output_type": "stream",
     "text": [
      "2.5\n",
      "4 1 2.5\n"
     ]
    }
   ],
   "source": [
    "mean = np.mean(num_arr)\n",
    "print(mean)\n",
    "print(max,min,mean)"
   ]
  },
  {
   "cell_type": "code",
   "execution_count": 25,
   "id": "66f9e5f2-adbd-40fc-b7ab-4645a80ad5d6",
   "metadata": {},
   "outputs": [],
   "source": [
    "arr = np.array([1,1,1,2,2,3,3,4])"
   ]
  },
  {
   "cell_type": "code",
   "execution_count": 26,
   "id": "5f98ffa8-02b5-463d-b18f-00fff9178785",
   "metadata": {},
   "outputs": [
    {
     "name": "stdout",
     "output_type": "stream",
     "text": [
      "[1 2 3 4]\n"
     ]
    }
   ],
   "source": [
    "print(np.unique(arr))"
   ]
  },
  {
   "cell_type": "code",
   "execution_count": 27,
   "id": "0adf60e2-6be4-4ccc-bda2-392d9b307797",
   "metadata": {},
   "outputs": [
    {
     "name": "stdout",
     "output_type": "stream",
     "text": [
      "(array([1, 2, 3, 4]), array([3, 2, 2, 1], dtype=int64))\n"
     ]
    }
   ],
   "source": [
    "print(np.unique(arr,return_counts=True))"
   ]
  },
  {
   "cell_type": "code",
   "execution_count": 29,
   "id": "630a8084-78c4-456f-854a-299e4fa3ebe3",
   "metadata": {},
   "outputs": [
    {
     "name": "stdout",
     "output_type": "stream",
     "text": [
      "[]\n"
     ]
    }
   ],
   "source": [
    "arar = np.array([])\n",
    "print(arar)"
   ]
  },
  {
   "cell_type": "code",
   "execution_count": 32,
   "id": "ba2c3fcc-ccc2-4d0e-a05c-21eff534ecb9",
   "metadata": {},
   "outputs": [
    {
     "name": "stdout",
     "output_type": "stream",
     "text": [
      "[15 27 92 77 63 27 58 82 13 48]\n"
     ]
    }
   ],
   "source": [
    "arar = np.random.randint(100,size = 10)    \n",
    "print(arar)"
   ]
  },
  {
   "cell_type": "code",
   "execution_count": 33,
   "id": "0f8bfcbc-1f2e-4090-90b0-ce405234c643",
   "metadata": {},
   "outputs": [
    {
     "name": "stdout",
     "output_type": "stream",
     "text": [
      "92 50.2\n"
     ]
    }
   ],
   "source": [
    "print(np.max(arar),np.mean(arar))"
   ]
  },
  {
   "cell_type": "code",
   "execution_count": 34,
   "id": "edf90ace-ac46-4280-bd7b-81caf33d1f26",
   "metadata": {},
   "outputs": [],
   "source": [
    "arar = np.append(arar,999)"
   ]
  },
  {
   "cell_type": "code",
   "execution_count": 35,
   "id": "8162888e-bb40-4e00-a376-061ec7cfb5c8",
   "metadata": {},
   "outputs": [
    {
     "name": "stdout",
     "output_type": "stream",
     "text": [
      "999 136.45454545454547\n"
     ]
    }
   ],
   "source": [
    "print(np.max(arar),np.mean(arar))"
   ]
  },
  {
   "cell_type": "code",
   "execution_count": 49,
   "id": "13d63347-546d-41c4-beda-c2556b84d4a6",
   "metadata": {},
   "outputs": [
    {
     "name": "stdout",
     "output_type": "stream",
     "text": [
      "[27 41 48 37 32 37 38 13]\n"
     ]
    }
   ],
   "source": [
    "arar = np.random.randint(50,size= 8)\n",
    "print(arar)"
   ]
  },
  {
   "cell_type": "code",
   "execution_count": 50,
   "id": "a5eee891-898b-4b89-bfda-3c67f5c02f02",
   "metadata": {},
   "outputs": [
    {
     "name": "stdout",
     "output_type": "stream",
     "text": [
      "[27 41 37 37 38 13]\n"
     ]
    }
   ],
   "source": [
    "arar = np.delete(arar,[2,4])\n",
    "print(arar)"
   ]
  },
  {
   "cell_type": "code",
   "execution_count": 51,
   "id": "562294f6-db87-4bc5-ae05-159a8ba69cc8",
   "metadata": {},
   "outputs": [
    {
     "name": "stdout",
     "output_type": "stream",
     "text": [
      "[100 200  27  41  37  37  38  13]\n"
     ]
    }
   ],
   "source": [
    "arar = np.insert(arar,[0,0],[100,200])\n",
    "print(arar)"
   ]
  },
  {
   "cell_type": "code",
   "execution_count": 53,
   "id": "4c700d63-a5ca-492e-add5-40502a76e6a3",
   "metadata": {},
   "outputs": [
    {
     "name": "stdout",
     "output_type": "stream",
     "text": [
      "200 \n",
      " 13 \n",
      " 61.625\n"
     ]
    }
   ],
   "source": [
    "print(np.max(arar),\"\\n\",np.min(arar),\"\\n\",np.mean(arar))"
   ]
  },
  {
   "cell_type": "code",
   "execution_count": 54,
   "id": "078e690e-9477-445b-909e-3fe15006a164",
   "metadata": {},
   "outputs": [
    {
     "name": "stdout",
     "output_type": "stream",
     "text": [
      "[1, 2, 3, [4, 5, 6]]\n"
     ]
    }
   ],
   "source": [
    "py_list = [1,2,3]\n",
    "py_list.append([4,5,6])\n",
    "print(py_list)"
   ]
  },
  {
   "cell_type": "code",
   "execution_count": 55,
   "id": "d90ea476-c1bb-4feb-8e80-786cd4158193",
   "metadata": {},
   "outputs": [],
   "source": [
    "py_list = [[1,2,3]]\n",
    "py_list.append([4,5,6])"
   ]
  },
  {
   "cell_type": "code",
   "execution_count": 56,
   "id": "330a6f69-8863-4685-8ce0-1fd889517cfd",
   "metadata": {},
   "outputs": [
    {
     "name": "stdout",
     "output_type": "stream",
     "text": [
      "[[1, 2, 3], [4, 5, 6]]\n"
     ]
    }
   ],
   "source": [
    "print(py_list)"
   ]
  },
  {
   "cell_type": "code",
   "execution_count": 61,
   "id": "680c0aca-5e66-46a1-a6c4-47aedc742982",
   "metadata": {},
   "outputs": [],
   "source": [
    "num_arr = np.array(py_list)"
   ]
  },
  {
   "cell_type": "code",
   "execution_count": 62,
   "id": "ef2bcdde-c035-4113-9ed0-3d66d6340a4e",
   "metadata": {},
   "outputs": [
    {
     "name": "stdout",
     "output_type": "stream",
     "text": [
      "(2, 3)\n"
     ]
    }
   ],
   "source": [
    "print(num_arr.shape)"
   ]
  },
  {
   "cell_type": "code",
   "execution_count": 71,
   "id": "55dd76d0-9cf9-49d0-9cdb-65fa1b10536d",
   "metadata": {},
   "outputs": [],
   "source": [
    "ar = [[1,2,3,4,5,6]]\n",
    "new_arr = np.reshape(ar,(2,3))"
   ]
  },
  {
   "cell_type": "code",
   "execution_count": 72,
   "id": "98bb4e5d-fd4b-44cc-8d03-0ece946d0d35",
   "metadata": {},
   "outputs": [],
   "source": [
    "tr_arr = np.transpose(new_arr)"
   ]
  },
  {
   "cell_type": "code",
   "execution_count": 73,
   "id": "a277aa7c-d19d-4e31-92cb-5460c738a628",
   "metadata": {},
   "outputs": [
    {
     "name": "stdout",
     "output_type": "stream",
     "text": [
      "[[1 2 3]\n",
      " [4 5 6]]\n",
      "[[1 4]\n",
      " [2 5]\n",
      " [3 6]]\n"
     ]
    }
   ],
   "source": [
    "print(new_arr)\n",
    "print(tr_arr)"
   ]
  },
  {
   "cell_type": "code",
   "execution_count": 74,
   "id": "27144f63-0052-47c9-afe7-a034484ab02b",
   "metadata": {},
   "outputs": [
    {
     "name": "stdout",
     "output_type": "stream",
     "text": [
      "[[1 2 4 5]\n",
      " [2 1 2 2]\n",
      " [4 3 4 0]]\n"
     ]
    }
   ],
   "source": [
    "ff = np.random.randint(6,size=(3,4))\n",
    "print(ff)"
   ]
  },
  {
   "cell_type": "code",
   "execution_count": 84,
   "id": "62905c9d-e485-4b7c-83dd-4b6e206d813d",
   "metadata": {},
   "outputs": [
    {
     "ename": "ValueError",
     "evalue": "all the input arrays must have same number of dimensions, but the array at index 0 has 2 dimension(s) and the array at index 1 has 1 dimension(s)",
     "output_type": "error",
     "traceback": [
      "\u001b[1;31m---------------------------------------------------------------------------\u001b[0m",
      "\u001b[1;31mValueError\u001b[0m                                Traceback (most recent call last)",
      "\u001b[1;32m~\\AppData\\Local\\Temp\\ipykernel_13696\\262812092.py\u001b[0m in \u001b[0;36m<module>\u001b[1;34m\u001b[0m\n\u001b[0;32m      1\u001b[0m \u001b[0mxx\u001b[0m \u001b[1;33m=\u001b[0m \u001b[0mnp\u001b[0m\u001b[1;33m.\u001b[0m\u001b[0mreshape\u001b[0m\u001b[1;33m(\u001b[0m\u001b[0mff\u001b[0m\u001b[1;33m,\u001b[0m\u001b[1;33m(\u001b[0m\u001b[1;36m2\u001b[0m\u001b[1;33m,\u001b[0m\u001b[1;36m6\u001b[0m\u001b[1;33m)\u001b[0m\u001b[1;33m)\u001b[0m\u001b[1;33m\u001b[0m\u001b[1;33m\u001b[0m\u001b[0m\n\u001b[1;32m----> 2\u001b[1;33m \u001b[0mff\u001b[0m \u001b[1;33m=\u001b[0m \u001b[0mnp\u001b[0m\u001b[1;33m.\u001b[0m\u001b[0mappend\u001b[0m\u001b[1;33m(\u001b[0m\u001b[0mff\u001b[0m\u001b[1;33m,\u001b[0m\u001b[1;33m[\u001b[0m\u001b[1;36m12\u001b[0m\u001b[1;33m]\u001b[0m\u001b[1;33m,\u001b[0m\u001b[0maxis\u001b[0m \u001b[1;33m=\u001b[0m \u001b[1;36m0\u001b[0m\u001b[1;33m)\u001b[0m\u001b[1;33m\u001b[0m\u001b[1;33m\u001b[0m\u001b[0m\n\u001b[0m\u001b[0;32m      3\u001b[0m \u001b[0mprint\u001b[0m\u001b[1;33m(\u001b[0m\u001b[0mxx\u001b[0m\u001b[1;33m)\u001b[0m\u001b[1;33m\u001b[0m\u001b[1;33m\u001b[0m\u001b[0m\n\u001b[0;32m      4\u001b[0m \u001b[0mprint\u001b[0m\u001b[1;33m(\u001b[0m\u001b[0mff\u001b[0m\u001b[1;33m)\u001b[0m\u001b[1;33m\u001b[0m\u001b[1;33m\u001b[0m\u001b[0m\n",
      "\u001b[1;32m<__array_function__ internals>\u001b[0m in \u001b[0;36mappend\u001b[1;34m(*args, **kwargs)\u001b[0m\n",
      "\u001b[1;32m~\\anaconda3\\lib\\site-packages\\numpy\\lib\\function_base.py\u001b[0m in \u001b[0;36mappend\u001b[1;34m(arr, values, axis)\u001b[0m\n\u001b[0;32m   4815\u001b[0m         \u001b[0mvalues\u001b[0m \u001b[1;33m=\u001b[0m \u001b[0mravel\u001b[0m\u001b[1;33m(\u001b[0m\u001b[0mvalues\u001b[0m\u001b[1;33m)\u001b[0m\u001b[1;33m\u001b[0m\u001b[1;33m\u001b[0m\u001b[0m\n\u001b[0;32m   4816\u001b[0m         \u001b[0maxis\u001b[0m \u001b[1;33m=\u001b[0m \u001b[0marr\u001b[0m\u001b[1;33m.\u001b[0m\u001b[0mndim\u001b[0m\u001b[1;33m-\u001b[0m\u001b[1;36m1\u001b[0m\u001b[1;33m\u001b[0m\u001b[1;33m\u001b[0m\u001b[0m\n\u001b[1;32m-> 4817\u001b[1;33m     \u001b[1;32mreturn\u001b[0m \u001b[0mconcatenate\u001b[0m\u001b[1;33m(\u001b[0m\u001b[1;33m(\u001b[0m\u001b[0marr\u001b[0m\u001b[1;33m,\u001b[0m \u001b[0mvalues\u001b[0m\u001b[1;33m)\u001b[0m\u001b[1;33m,\u001b[0m \u001b[0maxis\u001b[0m\u001b[1;33m=\u001b[0m\u001b[0maxis\u001b[0m\u001b[1;33m)\u001b[0m\u001b[1;33m\u001b[0m\u001b[1;33m\u001b[0m\u001b[0m\n\u001b[0m\u001b[0;32m   4818\u001b[0m \u001b[1;33m\u001b[0m\u001b[0m\n\u001b[0;32m   4819\u001b[0m \u001b[1;33m\u001b[0m\u001b[0m\n",
      "\u001b[1;32m<__array_function__ internals>\u001b[0m in \u001b[0;36mconcatenate\u001b[1;34m(*args, **kwargs)\u001b[0m\n",
      "\u001b[1;31mValueError\u001b[0m: all the input arrays must have same number of dimensions, but the array at index 0 has 2 dimension(s) and the array at index 1 has 1 dimension(s)"
     ]
    }
   ],
   "source": [
    "xx = np.reshape(ff,(2,6))\n",
    "ff = np.append(ff,[12],axis = 0)\n",
    "print(xx)\n",
    "print(ff)"
   ]
  },
  {
   "cell_type": "code",
   "execution_count": null,
   "id": "54acba3d-c052-4986-bace-91c773c13ead",
   "metadata": {},
   "outputs": [],
   "source": []
  }
 ],
 "metadata": {
  "kernelspec": {
   "display_name": "Python 3 (ipykernel)",
   "language": "python",
   "name": "python3"
  },
  "language_info": {
   "codemirror_mode": {
    "name": "ipython",
    "version": 3
   },
   "file_extension": ".py",
   "mimetype": "text/x-python",
   "name": "python",
   "nbconvert_exporter": "python",
   "pygments_lexer": "ipython3",
   "version": "3.9.13"
  }
 },
 "nbformat": 4,
 "nbformat_minor": 5
}

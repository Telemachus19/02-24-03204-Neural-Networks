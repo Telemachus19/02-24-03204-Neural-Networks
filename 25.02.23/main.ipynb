{
 "cells": [
  {
   "cell_type": "code",
   "execution_count": 2,
   "id": "89177509-1832-4aae-a83f-fb3f6e83aeed",
   "metadata": {},
   "outputs": [],
   "source": [
    "import numpy as np"
   ]
  },
  {
   "cell_type": "code",
   "execution_count": 4,
   "id": "9c56663f-606a-41bb-805e-e02ad35a34f8",
   "metadata": {},
   "outputs": [],
   "source": [
    "py_list = [1,2,3]\n",
    "num_arr = np.array([1,2,3])"
   ]
  },
  {
   "cell_type": "code",
   "execution_count": 17,
   "id": "a53b661c-c8bd-4a43-9377-d4ce8ddfbc67",
   "metadata": {},
   "outputs": [
    {
     "name": "stdout",
     "output_type": "stream",
     "text": [
      "[1, 2, 3]\n",
      "[1 2 3 4]\n"
     ]
    }
   ],
   "source": [
    "print(py_list)\n",
    "print(num_arr)"
   ]
  },
  {
   "cell_type": "code",
   "execution_count": 18,
   "id": "46e4dfae-0e02-4c9b-846f-29ea88816f81",
   "metadata": {},
   "outputs": [],
   "source": [
    "num_arr = np.insert(num_arr,1,10)"
   ]
  },
  {
   "cell_type": "code",
   "execution_count": 19,
   "id": "8d7c11da-6f22-4f02-9c82-993df341bac1",
   "metadata": {},
   "outputs": [
    {
     "name": "stdout",
     "output_type": "stream",
     "text": [
      "[ 1 10  2  3  4]\n"
     ]
    }
   ],
   "source": [
    "print(num_arr)"
   ]
  },
  {
   "cell_type": "code",
   "execution_count": 20,
   "id": "b69646bb-418d-4756-bf6c-8b17bbb0ed01",
   "metadata": {},
   "outputs": [
    {
     "name": "stdout",
     "output_type": "stream",
     "text": [
      "[1 2 3 4]\n"
     ]
    }
   ],
   "source": [
    "num_arr = np.delete(num_arr,1)\n",
    "print(num_arr)"
   ]
  },
  {
   "cell_type": "code",
   "execution_count": 22,
   "id": "52ff7e36-dc79-432b-8579-55fbff05fa07",
   "metadata": {},
   "outputs": [
    {
     "name": "stdout",
     "output_type": "stream",
     "text": [
      "4\n",
      "1\n"
     ]
    }
   ],
   "source": [
    "max = np.max(num_arr)\n",
    "print(max)\n",
    "min = np.min(num_arr)\n",
    "print(min)"
   ]
  },
  {
   "cell_type": "code",
   "execution_count": 24,
   "id": "c3cd625d-8796-4cf9-a9dd-764507213fb0",
   "metadata": {},
   "outputs": [
    {
     "name": "stdout",
     "output_type": "stream",
     "text": [
      "2.5\n",
      "4 1 2.5\n"
     ]
    }
   ],
   "source": [
    "mean = np.mean(num_arr)\n",
    "print(mean)\n",
    "print(max,min,mean)"
   ]
  },
  {
   "cell_type": "code",
   "execution_count": 25,
   "id": "66f9e5f2-adbd-40fc-b7ab-4645a80ad5d6",
   "metadata": {},
   "outputs": [],
   "source": [
    "arr = np.array([1,1,1,2,2,3,3,4])"
   ]
  },
  {
   "cell_type": "code",
   "execution_count": 26,
   "id": "5f98ffa8-02b5-463d-b18f-00fff9178785",
   "metadata": {},
   "outputs": [
    {
     "name": "stdout",
     "output_type": "stream",
     "text": [
      "[1 2 3 4]\n"
     ]
    }
   ],
   "source": [
    "print(np.unique(arr))"
   ]
  },
  {
   "cell_type": "code",
   "execution_count": 27,
   "id": "0adf60e2-6be4-4ccc-bda2-392d9b307797",
   "metadata": {},
   "outputs": [
    {
     "name": "stdout",
     "output_type": "stream",
     "text": [
      "(array([1, 2, 3, 4]), array([3, 2, 2, 1], dtype=int64))\n"
     ]
    }
   ],
   "source": [
    "print(np.unique(arr,return_counts=True))"
   ]
  },
  {
   "cell_type": "code",
   "execution_count": 29,
   "id": "630a8084-78c4-456f-854a-299e4fa3ebe3",
   "metadata": {},
   "outputs": [
    {
     "name": "stdout",
     "output_type": "stream",
     "text": [
      "[]\n"
     ]
    }
   ],
   "source": [
    "arar = np.array([])\n",
    "print(arar)"
   ]
  },
  {
   "cell_type": "code",
   "execution_count": 32,
   "id": "ba2c3fcc-ccc2-4d0e-a05c-21eff534ecb9",
   "metadata": {},
   "outputs": [
    {
     "name": "stdout",
     "output_type": "stream",
     "text": [
      "[15 27 92 77 63 27 58 82 13 48]\n"
     ]
    }
   ],
   "source": [
    "arar = np.random.randint(100,size = 10)    \n",
    "print(arar)"
   ]
  },
  {
   "cell_type": "code",
   "execution_count": 33,
   "id": "0f8bfcbc-1f2e-4090-90b0-ce405234c643",
   "metadata": {},
   "outputs": [
    {
     "name": "stdout",
     "output_type": "stream",
     "text": [
      "92 50.2\n"
     ]
    }
   ],
   "source": [
    "print(np.max(arar),np.mean(arar))"
   ]
  },
  {
   "cell_type": "code",
   "execution_count": 34,
   "id": "edf90ace-ac46-4280-bd7b-81caf33d1f26",
   "metadata": {},
   "outputs": [],
   "source": [
    "arar = np.append(arar,999)"
   ]
  },
  {
   "cell_type": "code",
   "execution_count": 35,
   "id": "8162888e-bb40-4e00-a376-061ec7cfb5c8",
   "metadata": {},
   "outputs": [
    {
     "name": "stdout",
     "output_type": "stream",
     "text": [
      "999 136.45454545454547\n"
     ]
    }
   ],
   "source": [
    "print(np.max(arar),np.mean(arar))"
   ]
  },
  {
   "cell_type": "code",
   "execution_count": 49,
   "id": "13d63347-546d-41c4-beda-c2556b84d4a6",
   "metadata": {},
   "outputs": [
    {
     "name": "stdout",
     "output_type": "stream",
     "text": [
      "[27 41 48 37 32 37 38 13]\n"
     ]
    }
   ],
   "source": [
    "arar = np.random.randint(50,size= 8)\n",
    "print(arar)"
   ]
  },
  {
   "cell_type": "code",
   "execution_count": 50,
   "id": "a5eee891-898b-4b89-bfda-3c67f5c02f02",
   "metadata": {},
   "outputs": [
    {
     "name": "stdout",
     "output_type": "stream",
     "text": [
      "[27 41 37 37 38 13]\n"
     ]
    }
   ],
   "source": [
    "arar = np.delete(arar,[2,4])\n",
    "print(arar)"
   ]
  },
  {
   "cell_type": "code",
   "execution_count": 51,
   "id": "562294f6-db87-4bc5-ae05-159a8ba69cc8",
   "metadata": {},
   "outputs": [
    {
     "name": "stdout",
     "output_type": "stream",
     "text": [
      "[100 200  27  41  37  37  38  13]\n"
     ]
    }
   ],
   "source": [
    "arar = np.insert(arar,[0,0],[100,200])\n",
    "print(arar)"
   ]
  },
  {
   "cell_type": "code",
   "execution_count": 53,
   "id": "4c700d63-a5ca-492e-add5-40502a76e6a3",
   "metadata": {},
   "outputs": [
    {
     "name": "stdout",
     "output_type": "stream",
     "text": [
      "200 \n",
      " 13 \n",
      " 61.625\n"
     ]
    }
   ],
   "source": [
    "print(np.max(arar),\"\\n\",np.min(arar),\"\\n\",np.mean(arar))"
   ]
  },
  {
   "cell_type": "code",
   "execution_count": 54,
   "id": "078e690e-9477-445b-909e-3fe15006a164",
   "metadata": {},
   "outputs": [
    {
     "name": "stdout",
     "output_type": "stream",
     "text": [
      "[1, 2, 3, [4, 5, 6]]\n"
     ]
    }
   ],
   "source": [
    "py_list = [1,2,3]\n",
    "py_list.append([4,5,6])\n",
    "print(py_list)"
   ]
  },
  {
   "cell_type": "code",
   "execution_count": 55,
   "id": "d90ea476-c1bb-4feb-8e80-786cd4158193",
   "metadata": {},
   "outputs": [],
   "source": [
    "py_list = [[1,2,3]]\n",
    "py_list.append([4,5,6])"
   ]
  },
  {
   "cell_type": "code",
   "execution_count": 56,
   "id": "330a6f69-8863-4685-8ce0-1fd889517cfd",
   "metadata": {},
   "outputs": [
    {
     "name": "stdout",
     "output_type": "stream",
     "text": [
      "[[1, 2, 3], [4, 5, 6]]\n"
     ]
    }
   ],
   "source": [
    "print(py_list)"
   ]
  },
  {
   "cell_type": "code",
   "execution_count": 61,
   "id": "680c0aca-5e66-46a1-a6c4-47aedc742982",
   "metadata": {},
   "outputs": [],
   "source": [
    "num_arr = np.array(py_list)"
   ]
  },
  {
   "cell_type": "code",
   "execution_count": 62,
   "id": "ef2bcdde-c035-4113-9ed0-3d66d6340a4e",
   "metadata": {},
   "outputs": [
    {
     "name": "stdout",
     "output_type": "stream",
     "text": [
      "(2, 3)\n"
     ]
    }
   ],
   "source": [
    "print(num_arr.shape)"
   ]
  },
  {
   "cell_type": "code",
   "execution_count": 71,
   "id": "55dd76d0-9cf9-49d0-9cdb-65fa1b10536d",
   "metadata": {},
   "outputs": [],
   "source": [
    "ar = [[1,2,3,4,5,6]]\n",
    "new_arr = np.reshape(ar,(2,3))"
   ]
  },
  {
   "cell_type": "code",
   "execution_count": 72,
   "id": "98bb4e5d-fd4b-44cc-8d03-0ece946d0d35",
   "metadata": {},
   "outputs": [],
   "source": [
    "tr_arr = np.transpose(new_arr)"
   ]
  },
  {
   "cell_type": "code",
   "execution_count": 73,
   "id": "a277aa7c-d19d-4e31-92cb-5460c738a628",
   "metadata": {},
   "outputs": [
    {
     "name": "stdout",
     "output_type": "stream",
     "text": [
      "[[1 2 3]\n",
      " [4 5 6]]\n",
      "[[1 4]\n",
      " [2 5]\n",
      " [3 6]]\n"
     ]
    }
   ],
   "source": [
    "print(new_arr)\n",
    "print(tr_arr)"
   ]
  },
  {
   "cell_type": "code",
   "execution_count": 89,
   "id": "27144f63-0052-47c9-afe7-a034484ab02b",
   "metadata": {},
   "outputs": [
    {
     "name": "stdout",
     "output_type": "stream",
     "text": [
      "[[2 0 3 2]\n",
      " [4 2 0 2]\n",
      " [5 5 3 2]]\n"
     ]
    }
   ],
   "source": [
    "ff = np.random.randint(6,size=(3,4))\n",
    "print(ff)"
   ]
  },
  {
   "cell_type": "code",
   "execution_count": 90,
   "id": "62905c9d-e485-4b7c-83dd-4b6e206d813d",
   "metadata": {},
   "outputs": [
    {
     "name": "stdout",
     "output_type": "stream",
     "text": [
      "[[2 0 3 2 4 2]\n",
      " [0 2 5 5 3 2]]\n"
     ]
    }
   ],
   "source": [
    "ff = np.reshape(ff,(2,6))\n",
    "print(ff)"
   ]
  },
  {
   "cell_type": "code",
   "execution_count": 94,
   "id": "54acba3d-c052-4986-bace-91c773c13ead",
   "metadata": {},
   "outputs": [
    {
     "name": "stdout",
     "output_type": "stream",
     "text": [
      "[ 2  0  3  2  4  2  0  2  5  5  3  2 12]\n"
     ]
    }
   ],
   "source": [
    "ff = np.append(ff,12)\n",
    "print(ff)"
   ]
  },
  {
   "cell_type": "code",
   "execution_count": 95,
   "id": "222835a8-28a4-49b9-9552-bf5d9eb2f8c0",
   "metadata": {},
   "outputs": [
    {
     "name": "stdout",
     "output_type": "stream",
     "text": [
      "[[[10  7]\n",
      "  [11  8]\n",
      "  [11  6]]\n",
      "\n",
      " [[ 9  9]\n",
      "  [ 4  1]\n",
      "  [ 6  4]]]\n"
     ]
    }
   ],
   "source": [
    "n_a = np.random.randint(12,size = (3,2))\n",
    "x_a = np.random.randint(12,size = (3,2))\n",
    "A = np.array([n_a,x_a])\n",
    "print(A)"
   ]
  },
  {
   "cell_type": "code",
   "execution_count": 96,
   "id": "44557dc8-a70a-4e4a-976a-30d3e75bab30",
   "metadata": {},
   "outputs": [
    {
     "data": {
      "text/plain": [
       "(3, 2)"
      ]
     },
     "execution_count": 96,
     "metadata": {},
     "output_type": "execute_result"
    }
   ],
   "source": [
    "A[0].shape"
   ]
  },
  {
   "cell_type": "code",
   "execution_count": 97,
   "id": "60782337-da96-42f3-a5d0-a2d000507b7f",
   "metadata": {},
   "outputs": [
    {
     "data": {
      "text/plain": [
       "(3, 2)"
      ]
     },
     "execution_count": 97,
     "metadata": {},
     "output_type": "execute_result"
    }
   ],
   "source": [
    "A[1].shape"
   ]
  },
  {
   "cell_type": "code",
   "execution_count": 98,
   "id": "ba131948-92cf-4642-958b-2326575ae4a9",
   "metadata": {},
   "outputs": [
    {
     "data": {
      "text/plain": [
       "(2, 3, 2)"
      ]
     },
     "execution_count": 98,
     "metadata": {},
     "output_type": "execute_result"
    }
   ],
   "source": [
    "A.shape"
   ]
  },
  {
   "cell_type": "code",
   "execution_count": null,
   "id": "665a8cfb-d6e2-4718-af9b-702796b8e986",
   "metadata": {},
   "outputs": [],
   "source": []
  }
 ],
 "metadata": {
  "kernelspec": {
   "display_name": "Python 3 (ipykernel)",
   "language": "python",
   "name": "python3"
  },
  "language_info": {
   "codemirror_mode": {
    "name": "ipython",
    "version": 3
   },
   "file_extension": ".py",
   "mimetype": "text/x-python",
   "name": "python",
   "nbconvert_exporter": "python",
   "pygments_lexer": "ipython3",
   "version": "3.9.13"
  }
 },
 "nbformat": 4,
 "nbformat_minor": 5
}

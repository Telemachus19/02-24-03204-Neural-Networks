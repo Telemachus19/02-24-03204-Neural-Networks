{
  "nbformat": 4,
  "nbformat_minor": 0,
  "metadata": {
    "colab": {
      "provenance": []
    },
    "kernelspec": {
      "name": "python3",
      "display_name": "Python 3"
    },
    "language_info": {
      "name": "python"
    }
  },
  "cells": [
    {
      "cell_type": "markdown",
      "source": [
        "# Name: Ahmed Yousri Ali\n",
        "# ID: 2103108\n",
        "## Assignment 1 Nueral Network"
      ],
      "metadata": {
        "id": "S1cXaKQXt7ST"
      }
    },
    {
      "cell_type": "markdown",
      "source": [
        "## Question 1:  Load the data from the .npy file and print the array dimensions."
      ],
      "metadata": {
        "id": "Cn-IhxO8wZcU"
      }
    },
    {
      "cell_type": "code",
      "execution_count": 167,
      "metadata": {
        "colab": {
          "base_uri": "https://localhost:8080/"
        },
        "id": "YdAoW4fAt6Wh",
        "outputId": "c9141fca-1a65-47f7-997d-9b7b77563903"
      },
      "outputs": [
        {
          "output_type": "stream",
          "name": "stdout",
          "text": [
            "[['2020-01-01' 'USA' 'Product A' '100' '1000']\n",
            " ['2020-02-15' 'France' 'Product B' '200' '2500']\n",
            " ['2020-03-20' 'England' 'Product C' '150' '2000']\n",
            " ['2020-04-10' 'Ireland' 'Product A' '75' '1000']\n",
            " ['2020-05-05' 'Germany' 'Product B' '300' '4000']\n",
            " ['2021-01-01' 'USA' 'Product A' '100' '1000']\n",
            " ['2021-02-15' 'France' 'Product B' '200' '2500']\n",
            " ['2021-03-20' 'England' 'Product C' '150' '2000']\n",
            " ['2021-04-10' 'Ireland' 'Product A' '75' '1000']\n",
            " ['2021-05-05' 'Germany' 'Product B' '300' '4000']\n",
            " ['2022-01-01' 'USA' 'Product A' '100' '1000']\n",
            " ['2022-02-15' 'France' 'Product B' '200' '2500']\n",
            " ['2022-03-20' 'England' 'Product C' '150' '2000']\n",
            " ['2022-04-10' 'Ireland' 'Product A' '75' '1000']\n",
            " ['2022-05-05' 'Germany' 'Product B' '300' '4000']\n",
            " ['2023-01-01' 'USA' 'Product A' '100' '1000']\n",
            " ['2023-02-15' 'France' 'Product B' '200' '2500']\n",
            " ['2023-03-20' 'England' 'Product C' '150' '2000']\n",
            " ['2023-04-10' 'Ireland' 'Product A' '75' '1000']\n",
            " ['2023-05-05' 'Germany' 'Product B' '300' '4000']]\n",
            "(20, 5)\n"
          ]
        }
      ],
      "source": [
        "import numpy as np #Import numpy\n",
        "Data = np.load(\"/sales_data.npy\") # Load the data and declare a variable for it\n",
        "print(Data) #Printing the data\n",
        "print(Data.shape)"
      ]
    },
    {
      "cell_type": "markdown",
      "source": [
        "## Question 2: Slice the array to extract the sales data for the year 2022."
      ],
      "metadata": {
        "id": "vtO8uN-kxpv0"
      }
    },
    {
      "cell_type": "code",
      "source": [
        "for i in range(len(Data)):\n",
        "  if '2022' in Data[i,0]:\n",
        "    print(Data[i])"
      ],
      "metadata": {
        "colab": {
          "base_uri": "https://localhost:8080/"
        },
        "id": "KhVF9rOGxykM",
        "outputId": "70882faf-63b7-439a-f57f-d3deaba018eb"
      },
      "execution_count": 34,
      "outputs": [
        {
          "output_type": "stream",
          "name": "stdout",
          "text": [
            "['2022-01-01' 'USA' 'Product A' '100' '1000']\n",
            "['2022-02-15' 'France' 'Product B' '200' '2500']\n",
            "['2022-03-20' 'England' 'Product C' '150' '2000']\n",
            "['2022-04-10' 'Ireland' 'Product A' '75' '1000']\n",
            "['2022-05-05' 'Germany' 'Product B' '300' '4000']\n"
          ]
        }
      ]
    },
    {
      "cell_type": "markdown",
      "source": [
        "## Question 3: Calculate the total sales amount for each country for the year 2022."
      ],
      "metadata": {
        "id": "lxnB2f6xAENC"
      }
    },
    {
      "cell_type": "code",
      "source": [
        "total = 0\n",
        "for i in range(len(Data)):\n",
        "  if '2022' in Data[i,0]:\n",
        "    total+=int(Data[i,3])\n",
        "    print(\"Country:\",Data[i,1],\"Sales:\",Data[i,3],end=\"\\n\")\n",
        "print(\"Total Sales in 2022:\",total)"
      ],
      "metadata": {
        "colab": {
          "base_uri": "https://localhost:8080/"
        },
        "id": "MlkKm23aAKz3",
        "outputId": "87836afc-e1b5-4ec9-ca21-6d12a4fc01b3"
      },
      "execution_count": 62,
      "outputs": [
        {
          "output_type": "stream",
          "name": "stdout",
          "text": [
            "Country: USA Sales: 100\n",
            "Country: France Sales: 200\n",
            "Country: England Sales: 150\n",
            "Country: Ireland Sales: 75\n",
            "Country: Germany Sales: 300\n",
            "Total Sales in 2022: 825\n"
          ]
        }
      ]
    },
    {
      "cell_type": "markdown",
      "source": [
        "## Question 4: Calculate the mean sales amount for each product over the entire period."
      ],
      "metadata": {
        "id": "-bjZBsB4CkSp"
      }
    },
    {
      "cell_type": "code",
      "source": [
        "TotalProductA=[]\n",
        "TotalProductB=[]\n",
        "TotalProductC=[]\n",
        "for i in range(len(Data)):\n",
        "  if 'Product A' in Data[i,2]:\n",
        "    TotalProductA.append(int(Data[i,4]))\n",
        "  if 'Product B' in Data[i,2]:\n",
        "    TotalProductB.append(int(Data[i,4]))\n",
        "  if 'Product C' in Data[i,2]:\n",
        "    TotalProductC.append(int(Data[i,4]))\n",
        "print(\"Product mean for Product A:\",sum(TotalProductA)/len(TotalProductA))\n",
        "print(\"Product mean for Product B:\",sum(TotalProductB)/len(TotalProductB))\n",
        "print(\"Product mean for Product C:\",sum(TotalProductC)/len(TotalProductC))\n",
        "print(\"Total product mean:\", total/len(Data))"
      ],
      "metadata": {
        "colab": {
          "base_uri": "https://localhost:8080/"
        },
        "id": "fpVGuJB2DPzy",
        "outputId": "66f274f7-b07e-4524-9c5e-c2703e82b6c6"
      },
      "execution_count": 65,
      "outputs": [
        {
          "output_type": "stream",
          "name": "stdout",
          "text": [
            "Product mean for Product A: 1000.0\n",
            "Product mean for Product B: 3250.0\n",
            "Product mean for Product C: 2000.0\n",
            "Total product mean: 41.25\n"
          ]
        }
      ]
    },
    {
      "cell_type": "markdown",
      "source": [
        "## Question 5: Extract the total sales amount for each country for the year 2023 and Append it to aseparate array."
      ],
      "metadata": {
        "id": "IYsf8gPALz8q"
      }
    },
    {
      "cell_type": "code",
      "source": [
        "Data2023 = []\n",
        "for i in range(len(Data)):\n",
        "  if '2023' in Data[i,0]:\n",
        "    Data2023.append(Data[i])\n",
        "Data2023 = np.array(Data2023)\n",
        "print('2023 Sales:\\n',Data2023)"
      ],
      "metadata": {
        "colab": {
          "base_uri": "https://localhost:8080/"
        },
        "id": "mfmVv0ipL4BR",
        "outputId": "b93afd2c-27fc-400f-e948-71c1bd3d4aa1"
      },
      "execution_count": 197,
      "outputs": [
        {
          "output_type": "stream",
          "name": "stdout",
          "text": [
            "2023 Sales:\n",
            " [['2023-01-01' 'USA' 'Product A' '100' '1000']\n",
            " ['2023-02-15' 'France' 'Product B' '200' '2500']\n",
            " ['2023-03-20' 'England' 'Product C' '150' '2000']\n",
            " ['2023-04-10' 'Ireland' 'Product A' '75' '1000']\n",
            " ['2023-05-05' 'Germany' 'Product B' '300' '4000']]\n"
          ]
        }
      ]
    },
    {
      "cell_type": "markdown",
      "source": [
        "## Question 6: Delete the sales data for Ireland for the year 2021."
      ],
      "metadata": {
        "id": "KOzSWJbwWocp"
      }
    },
    {
      "cell_type": "code",
      "source": [
        "Delete2021 = Data.copy()\n",
        "for i in range(len(Data)):\n",
        "  if '2021' in Data[i,0] and 'Ireland' in Data[i,1]:\n",
        "    Delete2021 = np.delete(Delete2021 , i ,0)\n",
        "print('Ireland deleted sales in 2021:\\n',Delete2021)"
      ],
      "metadata": {
        "colab": {
          "base_uri": "https://localhost:8080/"
        },
        "id": "mAWcbqSoWs1d",
        "outputId": "7995339d-34bf-4c12-cb25-d54a8ecc5970"
      },
      "execution_count": 199,
      "outputs": [
        {
          "output_type": "stream",
          "name": "stdout",
          "text": [
            "Ireland deleted sales in 2021:\n",
            " [['2020-01-01' 'USA' 'Product A' '100' '1000']\n",
            " ['2020-02-15' 'France' 'Product B' '200' '2500']\n",
            " ['2020-03-20' 'England' 'Product C' '150' '2000']\n",
            " ['2020-04-10' 'Ireland' 'Product A' '75' '1000']\n",
            " ['2020-05-05' 'Germany' 'Product B' '300' '4000']\n",
            " ['2021-01-01' 'USA' 'Product A' '100' '1000']\n",
            " ['2021-02-15' 'France' 'Product B' '200' '2500']\n",
            " ['2021-03-20' 'England' 'Product C' '150' '2000']\n",
            " ['2021-05-05' 'Germany' 'Product B' '300' '4000']\n",
            " ['2022-01-01' 'USA' 'Product A' '100' '1000']\n",
            " ['2022-02-15' 'France' 'Product B' '200' '2500']\n",
            " ['2022-03-20' 'England' 'Product C' '150' '2000']\n",
            " ['2022-04-10' 'Ireland' 'Product A' '75' '1000']\n",
            " ['2022-05-05' 'Germany' 'Product B' '300' '4000']\n",
            " ['2023-01-01' 'USA' 'Product A' '100' '1000']\n",
            " ['2023-02-15' 'France' 'Product B' '200' '2500']\n",
            " ['2023-03-20' 'England' 'Product C' '150' '2000']\n",
            " ['2023-04-10' 'Ireland' 'Product A' '75' '1000']\n",
            " ['2023-05-05' 'Germany' 'Product B' '300' '4000']]\n"
          ]
        }
      ]
    },
    {
      "cell_type": "markdown",
      "source": [
        "## Question 7: Find the unique product names and print them sorted alphabetically.\n"
      ],
      "metadata": {
        "id": "ET9o3aZ-dG6Y"
      }
    },
    {
      "cell_type": "code",
      "source": [
        "UniqueData=Data[:,2]\n",
        "UniqueData = np.unique(UniqueData)\n",
        "UniqueData = sorted(UniqueData)\n",
        "print('Unique sorted product names:\\n',UniqueData)"
      ],
      "metadata": {
        "colab": {
          "base_uri": "https://localhost:8080/"
        },
        "id": "f_nHOSkPdmXN",
        "outputId": "f6a05ac4-6d61-4e76-b3f4-f768c9464b99"
      },
      "execution_count": 200,
      "outputs": [
        {
          "output_type": "stream",
          "name": "stdout",
          "text": [
            "Unique sorted product names:\n",
            " ['Product A', 'Product B', 'Product C']\n"
          ]
        }
      ]
    },
    {
      "cell_type": "markdown",
      "source": [
        "Question 8: Create a 2D array with random values of shape (20, 3) and concatenate it with the salesdata array along the second axis."
      ],
      "metadata": {
        "id": "S8HnQFNel9Hf"
      }
    },
    {
      "cell_type": "code",
      "source": [
        "random2d = np.random.rand(20,3)\n",
        "random2d = np.concatenate((Data,random2d), axis=1)\n",
        "print(random2d)"
      ],
      "metadata": {
        "colab": {
          "base_uri": "https://localhost:8080/"
        },
        "id": "orJ7KATemCNL",
        "outputId": "0855fb7e-655d-4165-db33-683a04c0a596"
      },
      "execution_count": 193,
      "outputs": [
        {
          "output_type": "stream",
          "name": "stdout",
          "text": [
            "[['2020-01-01' 'USA' 'Product A' '100' '1000' '0.8157140580896145'\n",
            "  '0.06603360431844374' '0.19080892354032242']\n",
            " ['2020-02-15' 'France' 'Product B' '200' '2500' '0.015175293531636935'\n",
            "  '0.9930398174891114' '0.6211046491127418']\n",
            " ['2020-03-20' 'England' 'Product C' '150' '2000' '0.47180367496040254'\n",
            "  '0.0939515788350308' '0.1985317088252907']\n",
            " ['2020-04-10' 'Ireland' 'Product A' '75' '1000' '0.5631381619988535'\n",
            "  '0.45956261997887315' '0.7609226690067223']\n",
            " ['2020-05-05' 'Germany' 'Product B' '300' '4000' '0.14524549021228406'\n",
            "  '0.1389847693836761' '0.42309031328023927']\n",
            " ['2021-01-01' 'USA' 'Product A' '100' '1000' '0.133313542865111'\n",
            "  '0.8382513348430277' '0.14962033934956864']\n",
            " ['2021-02-15' 'France' 'Product B' '200' '2500' '0.08541495906254803'\n",
            "  '0.5250998660303803' '0.10898617402283595']\n",
            " ['2021-03-20' 'England' 'Product C' '150' '2000' '0.40146419562083036'\n",
            "  '0.4441201780668049' '0.6900845995159155']\n",
            " ['2021-04-10' 'Ireland' 'Product A' '75' '1000' '0.33734710326315154'\n",
            "  '0.8772411521309347' '0.4252024072280848']\n",
            " ['2021-05-05' 'Germany' 'Product B' '300' '4000' '0.6178359629967636'\n",
            "  '0.7501356451872128' '0.23027475736829806']\n",
            " ['2022-01-01' 'USA' 'Product A' '100' '1000' '0.9358668777121538'\n",
            "  '0.15814894833301607' '0.5042114348182983']\n",
            " ['2022-02-15' 'France' 'Product B' '200' '2500' '0.14926060969423616'\n",
            "  '0.386452312954232' '0.17731302897551193']\n",
            " ['2022-03-20' 'England' 'Product C' '150' '2000' '0.8363858202758602'\n",
            "  '0.23134639354202213' '0.5677783652440744']\n",
            " ['2022-04-10' 'Ireland' 'Product A' '75' '1000' '0.17378780764661506'\n",
            "  '0.024050821637128683' '0.44656151168157165']\n",
            " ['2022-05-05' 'Germany' 'Product B' '300' '4000' '0.9137395850062564'\n",
            "  '0.9697796312701341' '0.6922926917242835']\n",
            " ['2023-01-01' 'USA' 'Product A' '100' '1000' '0.4912545790163493'\n",
            "  '0.6320017273078304' '0.29877272719418824']\n",
            " ['2023-02-15' 'France' 'Product B' '200' '2500' '0.4103883111959793'\n",
            "  '0.0343487433928219' '0.9097742514576029']\n",
            " ['2023-03-20' 'England' 'Product C' '150' '2000' '0.6367979984928553'\n",
            "  '0.8444450894681085' '0.4700361393475796']\n",
            " ['2023-04-10' 'Ireland' 'Product A' '75' '1000' '0.5221316010444109'\n",
            "  '0.8447872910725153' '0.5390670333474831']\n",
            " ['2023-05-05' 'Germany' 'Product B' '300' '4000' '0.055799772977057405'\n",
            "  '0.38345243794615' '0.07209906232108532']]\n"
          ]
        }
      ]
    },
    {
      "cell_type": "markdown",
      "source": [
        "Question 9: Save the output in modifiedsalesdata.npy and Explain what happened to the matrix bydoing the concatenation above."
      ],
      "metadata": {
        "id": "SsYg4z4BnKvw"
      }
    },
    {
      "cell_type": "code",
      "source": [
        "np.save('modifiedsalesdata.npy',random2d)"
      ],
      "metadata": {
        "id": "lL7NJ7b1nPdD"
      },
      "execution_count": 194,
      "outputs": []
    }
  ]
}
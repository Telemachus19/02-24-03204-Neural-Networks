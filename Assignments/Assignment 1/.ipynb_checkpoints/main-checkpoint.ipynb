{
 "cells": [
  {
   "cell_type": "markdown",
   "id": "a598fcf3-4993-4827-a3ce-a7c8261869bc",
   "metadata": {},
   "source": [
    "# Load the data from the .npy file and print the array dimensions"
   ]
  },
  {
   "cell_type": "code",
   "execution_count": 2,
   "id": "89e4dcac-352c-4cc7-8d0c-f7f2fe0950f6",
   "metadata": {},
   "outputs": [],
   "source": [
    "# importing the numpy library\n",
    "import numpy as np\n",
    "# loading the data from the .npy file \n",
    "data = np.load(\"sales_data.npy\")"
   ]
  },
  {
   "cell_type": "code",
   "execution_count": 3,
   "id": "514c9799-e45c-4239-9492-7040458edc5c",
   "metadata": {},
   "outputs": [
    {
     "name": "stdout",
     "output_type": "stream",
     "text": [
      "2\n"
     ]
    }
   ],
   "source": [
    "# printing the dimensions of the data\n",
    "print(data.ndim)"
   ]
  },
  {
   "cell_type": "code",
   "execution_count": 4,
   "id": "10779196-d4c2-4ea6-9406-6f4f8b89b311",
   "metadata": {},
   "outputs": [
    {
     "name": "stdout",
     "output_type": "stream",
     "text": [
      "[['2020-01-01' 'USA' 'Product A' '100' '1000']\n",
      " ['2020-02-15' 'France' 'Product B' '200' '2500']\n",
      " ['2020-03-20' 'England' 'Product C' '150' '2000']\n",
      " ['2020-04-10' 'Ireland' 'Product A' '75' '1000']\n",
      " ['2020-05-05' 'Germany' 'Product B' '300' '4000']\n",
      " ['2021-01-01' 'USA' 'Product A' '100' '1000']\n",
      " ['2021-02-15' 'France' 'Product B' '200' '2500']\n",
      " ['2021-03-20' 'England' 'Product C' '150' '2000']\n",
      " ['2021-04-10' 'Ireland' 'Product A' '75' '1000']\n",
      " ['2021-05-05' 'Germany' 'Product B' '300' '4000']\n",
      " ['2022-01-01' 'USA' 'Product A' '100' '1000']\n",
      " ['2022-02-15' 'France' 'Product B' '200' '2500']\n",
      " ['2022-03-20' 'England' 'Product C' '150' '2000']\n",
      " ['2022-04-10' 'Ireland' 'Product A' '75' '1000']\n",
      " ['2022-05-05' 'Germany' 'Product B' '300' '4000']\n",
      " ['2023-01-01' 'USA' 'Product A' '100' '1000']\n",
      " ['2023-02-15' 'France' 'Product B' '200' '2500']\n",
      " ['2023-03-20' 'England' 'Product C' '150' '2000']\n",
      " ['2023-04-10' 'Ireland' 'Product A' '75' '1000']\n",
      " ['2023-05-05' 'Germany' 'Product B' '300' '4000']]\n",
      "2\n",
      "(20, 5)\n"
     ]
    }
   ],
   "source": [
    "# printing the data\n",
    "print(data,data.ndim,data.shape,sep=\"\\n\")\n",
    "rows = data.shape[0]\n",
    "cols = data.shape[1]"
   ]
  },
  {
   "cell_type": "markdown",
   "id": "6cdecb1d-b08c-4e24-8b0a-ee4e2e0293cc",
   "metadata": {},
   "source": [
    "# Slice the array to extract the sales data for the year 2022."
   ]
  },
  {
   "cell_type": "code",
   "execution_count": 5,
   "id": "c809186f-8ff6-4c1e-8ab5-67f8c7886e68",
   "metadata": {},
   "outputs": [
    {
     "name": "stdout",
     "output_type": "stream",
     "text": [
      "['100' '200' '150' '75' '300']\n"
     ]
    }
   ],
   "source": [
    "data2022 = data[10:15,3]\n",
    "print(data2022)"
   ]
  },
  {
   "cell_type": "markdown",
   "id": "29e8afc4-976d-4370-9913-58e87a376108",
   "metadata": {},
   "source": [
    "# Calculate the total sales amount for each country for the year 2022."
   ]
  },
  {
   "cell_type": "code",
   "execution_count": 6,
   "id": "c7eccf17-7842-4b63-bc9f-30e35e57b8bd",
   "metadata": {},
   "outputs": [
    {
     "name": "stdout",
     "output_type": "stream",
     "text": [
      "Country:\tUSA\tTotal Sales:\t100\n",
      "Country:\tFrance\tTotal Sales:\t200\n",
      "Country:\tEngland\tTotal Sales:\t150\n",
      "Country:\tIreland\tTotal Sales:\t75\n",
      "Country:\tGermany\tTotal Sales:\t300\n",
      "Total Sales for all Countries in the year 2022: 825\n"
     ]
    }
   ],
   "source": [
    "totalCountries = 0 \n",
    "for i in range(rows):\n",
    "    if \"2022\" in data[i,0]:\n",
    "        print(\"Country:\", data[i,1], \"Total Sales:\", data[i,3],sep = \"\\t\", end=\"\\n\")\n",
    "        totalCountries += int(data[i,3])\n",
    "print(\"Total Sales for all Countries in the year 2022:\",totalCountries)"
   ]
  },
  {
   "cell_type": "markdown",
   "id": "a2a04105-dc52-4686-aa9c-1c8bde7664af",
   "metadata": {},
   "source": [
    "# Calculate the mean sales amount for each product over the entire period."
   ]
  },
  {
   "cell_type": "code",
   "execution_count": 8,
   "id": "65a79ca6-170f-4f51-a1c3-bdb757b9a24b",
   "metadata": {},
   "outputs": [
    {
     "name": "stdout",
     "output_type": "stream",
     "text": [
      "[1000 1000 1000 1000 1000 1000 1000 1000]\n",
      "[2500 4000 2500 4000 2500 4000 2500 4000]\n",
      "[2000 2000 2000 2000]\n",
      "Product A mean Sales: 1000.0\n",
      "Product B mean Sales: 3250.0\n",
      "Product C mean Sales: 2000.0\n"
     ]
    }
   ],
   "source": [
    "productASales = []\n",
    "productBSales = []\n",
    "productCSales = []\n",
    "for i in range(rows):\n",
    "    if data[i,2] == \"Product A\":\n",
    "        productASales.append(int(data[i,4]))\n",
    "    elif data[i,2] == \"Product B\":\n",
    "        productBSales.append(int(data[i,4]))\n",
    "    else:\n",
    "        productCSales.append(int(data[i,4]))\n",
    "productASales = np.array(productASales)\n",
    "productBSales = np.array(productBSales)\n",
    "productCSales = np.array(productCSales)\n",
    "print(productASales,productBSales,productCSales,sep=\"\\n\")\n",
    "print(\"Product A mean Sales:\", productASales.mean())\n",
    "print(\"Product B mean Sales:\", productBSales.mean())\n",
    "print(\"Product C mean Sales:\", productCSales.mean())"
   ]
  },
  {
   "cell_type": "markdown",
   "id": "86e71bee-9ea3-43c1-b05a-2e67c5b203da",
   "metadata": {},
   "source": [
    "# Extract the total sales amount for each country for the year 2023 and Append it to a separate array."
   ]
  },
  {
   "cell_type": "code",
   "execution_count": 196,
   "id": "be8fd11c-1993-49e1-a346-b0544440ebd1",
   "metadata": {},
   "outputs": [
    {
     "name": "stdout",
     "output_type": "stream",
     "text": [
      "[['USA' '1000']\n",
      " ['France' '2500']\n",
      " ['England' '2000']\n",
      " ['Ireland' '1000']\n",
      " ['Germany' '4000']]\n",
      "--------\n",
      "[['USA' '1000']\n",
      " ['France' '2500']\n",
      " ['England' '2000']\n",
      " ['Ireland' '1000']\n",
      " ['Germany' '4000']]\n"
     ]
    }
   ],
   "source": [
    "data2023 = data[15:,(1,4)]\n",
    "print(data2023)\n",
    "print(\"-\"*8)\n",
    "data2023 = []\n",
    "for i in range(rows):\n",
    "    if '2023' in data[i,0]:\n",
    "        data2023.append(data[i])\n",
    "data2023 = np.asarray(data2023)\n",
    "print(data2023[:,(1,4)])"
   ]
  },
  {
   "cell_type": "markdown",
   "id": "321f2e25-628a-4777-b093-a376521cd118",
   "metadata": {},
   "source": [
    "# Delete the sales data for Ireland for the year 2021"
   ]
  },
  {
   "cell_type": "code",
   "execution_count": 197,
   "id": "ed1fa7ce-bce9-4396-9405-abe5a03d548a",
   "metadata": {},
   "outputs": [
    {
     "name": "stdout",
     "output_type": "stream",
     "text": [
      "[['2020-01-01' 'USA' 'Product A' '100' '1000']\n",
      " ['2020-02-15' 'France' 'Product B' '200' '2500']\n",
      " ['2020-03-20' 'England' 'Product C' '150' '2000']\n",
      " ['2020-04-10' 'Ireland' 'Product A' '75' '1000']\n",
      " ['2020-05-05' 'Germany' 'Product B' '300' '4000']\n",
      " ['2021-01-01' 'USA' 'Product A' '100' '1000']\n",
      " ['2021-02-15' 'France' 'Product B' '200' '2500']\n",
      " ['2021-03-20' 'England' 'Product C' '150' '2000']\n",
      " ['2021-05-05' 'Germany' 'Product B' '300' '4000']\n",
      " ['2022-01-01' 'USA' 'Product A' '100' '1000']\n",
      " ['2022-02-15' 'France' 'Product B' '200' '2500']\n",
      " ['2022-03-20' 'England' 'Product C' '150' '2000']\n",
      " ['2022-04-10' 'Ireland' 'Product A' '75' '1000']\n",
      " ['2022-05-05' 'Germany' 'Product B' '300' '4000']\n",
      " ['2023-01-01' 'USA' 'Product A' '100' '1000']\n",
      " ['2023-02-15' 'France' 'Product B' '200' '2500']\n",
      " ['2023-03-20' 'England' 'Product C' '150' '2000']\n",
      " ['2023-04-10' 'Ireland' 'Product A' '75' '1000']\n",
      " ['2023-05-05' 'Germany' 'Product B' '300' '4000']]\n"
     ]
    }
   ],
   "source": [
    "newData = data.copy()\n",
    "for i in range(rows):\n",
    "    if \"2021\" in data[i,0] and \"Ireland\" in data[i,1]:\n",
    "        newData = np.delete(newData,i,axis=0)\n",
    "print(newData)"
   ]
  },
  {
   "cell_type": "markdown",
   "id": "045e1b84-01c4-4205-a250-49433e363592",
   "metadata": {},
   "source": [
    "# Find the unique product names and print them sorted alphabetically."
   ]
  },
  {
   "cell_type": "code",
   "execution_count": 198,
   "id": "fd351f15-ffd0-4510-8f58-4e67dd3d3394",
   "metadata": {},
   "outputs": [
    {
     "name": "stdout",
     "output_type": "stream",
     "text": [
      "['Product A', 'Product B', 'Product C']\n"
     ]
    }
   ],
   "source": [
    "print(sorted(np.unique(data[:,2])))"
   ]
  },
  {
   "cell_type": "markdown",
   "id": "c53c7456-2a86-4722-b906-d9e4408687fc",
   "metadata": {},
   "source": [
    "# Create a 2D array with random values of shape (20, 3) and concatenate it with the sales data array along the second axis."
   ]
  },
  {
   "cell_type": "code",
   "execution_count": 199,
   "id": "2011a685-6b0c-477c-82cf-33582ccca0ab",
   "metadata": {},
   "outputs": [
    {
     "name": "stdout",
     "output_type": "stream",
     "text": [
      "[['1' '0' '0' '2020-01-01' 'USA' 'Product A' '100' '1000']\n",
      " ['0' '0' '0' '2020-02-15' 'France' 'Product B' '200' '2500']\n",
      " ['0' '1' '1' '2020-03-20' 'England' 'Product C' '150' '2000']\n",
      " ['1' '0' '1' '2020-04-10' 'Ireland' 'Product A' '75' '1000']\n",
      " ['0' '0' '0' '2020-05-05' 'Germany' 'Product B' '300' '4000']\n",
      " ['1' '0' '1' '2021-01-01' 'USA' 'Product A' '100' '1000']\n",
      " ['0' '0' '1' '2021-02-15' 'France' 'Product B' '200' '2500']\n",
      " ['1' '0' '0' '2021-03-20' 'England' 'Product C' '150' '2000']\n",
      " ['1' '1' '1' '2021-04-10' 'Ireland' 'Product A' '75' '1000']\n",
      " ['0' '0' '1' '2021-05-05' 'Germany' 'Product B' '300' '4000']\n",
      " ['1' '0' '0' '2022-01-01' 'USA' 'Product A' '100' '1000']\n",
      " ['0' '1' '1' '2022-02-15' 'France' 'Product B' '200' '2500']\n",
      " ['1' '1' '0' '2022-03-20' 'England' 'Product C' '150' '2000']\n",
      " ['1' '1' '0' '2022-04-10' 'Ireland' 'Product A' '75' '1000']\n",
      " ['1' '0' '1' '2022-05-05' 'Germany' 'Product B' '300' '4000']\n",
      " ['0' '0' '0' '2023-01-01' 'USA' 'Product A' '100' '1000']\n",
      " ['1' '1' '0' '2023-02-15' 'France' 'Product B' '200' '2500']\n",
      " ['1' '1' '1' '2023-03-20' 'England' 'Product C' '150' '2000']\n",
      " ['0' '1' '0' '2023-04-10' 'Ireland' 'Product A' '75' '1000']\n",
      " ['0' '0' '1' '2023-05-05' 'Germany' 'Product B' '300' '4000']]\n"
     ]
    }
   ],
   "source": [
    "randArr = np.random.randint(0,2,size=(20,3))\n",
    "concatData = np.concatenate((randArr,data),axis = 1)\n",
    "print(concatData)"
   ]
  },
  {
   "cell_type": "markdown",
   "id": "99148c6c-6559-4533-bd76-5fe777ca62e1",
   "metadata": {},
   "source": [
    "# Save the output in modified sales data.npy and Explain what happened to the matrix by doing the concatenation above."
   ]
  },
  {
   "cell_type": "code",
   "execution_count": 200,
   "id": "190d1102-549e-441f-9a72-8d0f9b0eba99",
   "metadata": {},
   "outputs": [],
   "source": [
    "np.save('modifiedsalesdata.npy',concatData)"
   ]
  },
  {
   "cell_type": "code",
   "execution_count": null,
   "id": "b8da59b6-dafc-4b13-a5f7-92a79f55ed84",
   "metadata": {},
   "outputs": [],
   "source": []
  }
 ],
 "metadata": {
  "kernelspec": {
   "display_name": "Python 3 (ipykernel)",
   "language": "python",
   "name": "python3"
  },
  "language_info": {
   "codemirror_mode": {
    "name": "ipython",
    "version": 3
   },
   "file_extension": ".py",
   "mimetype": "text/x-python",
   "name": "python",
   "nbconvert_exporter": "python",
   "pygments_lexer": "ipython3",
   "version": "3.9.13"
  }
 },
 "nbformat": 4,
 "nbformat_minor": 5
}

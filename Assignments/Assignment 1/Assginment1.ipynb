{
 "cells": [
  {
   "cell_type": "markdown",
   "metadata": {
    "id": "S1cXaKQXt7ST"
   },
   "source": [
    "# Name: Ahmed Yousri Ali\n",
    "# ID: 2103108\n",
    "## Assignment 1 Nueral Network"
   ]
  },
  {
   "cell_type": "markdown",
   "metadata": {
    "id": "Cn-IhxO8wZcU"
   },
   "source": [
    "## Question 1:  Load the data from the .npy file and print the array dimensions."
   ]
  },
  {
   "cell_type": "code",
   "execution_count": 12,
   "metadata": {
    "colab": {
     "base_uri": "https://localhost:8080/"
    },
    "id": "YdAoW4fAt6Wh",
    "outputId": "c9141fca-1a65-47f7-997d-9b7b77563903"
   },
   "outputs": [
    {
     "name": "stdout",
     "output_type": "stream",
     "text": [
      "[['2020-01-01' 'USA' 'Product A' '100' '1000']\n",
      " ['2020-02-15' 'France' 'Product B' '200' '2500']\n",
      " ['2020-03-20' 'England' 'Product C' '150' '2000']\n",
      " ['2020-04-10' 'Ireland' 'Product A' '75' '1000']\n",
      " ['2020-05-05' 'Germany' 'Product B' '300' '4000']\n",
      " ['2021-01-01' 'USA' 'Product A' '100' '1000']\n",
      " ['2021-02-15' 'France' 'Product B' '200' '2500']\n",
      " ['2021-03-20' 'England' 'Product C' '150' '2000']\n",
      " ['2021-04-10' 'Ireland' 'Product A' '75' '1000']\n",
      " ['2021-05-05' 'Germany' 'Product B' '300' '4000']\n",
      " ['2022-01-01' 'USA' 'Product A' '100' '1000']\n",
      " ['2022-02-15' 'France' 'Product B' '200' '2500']\n",
      " ['2022-03-20' 'England' 'Product C' '150' '2000']\n",
      " ['2022-04-10' 'Ireland' 'Product A' '75' '1000']\n",
      " ['2022-05-05' 'Germany' 'Product B' '300' '4000']\n",
      " ['2023-01-01' 'USA' 'Product A' '100' '1000']\n",
      " ['2023-02-15' 'France' 'Product B' '200' '2500']\n",
      " ['2023-03-20' 'England' 'Product C' '150' '2000']\n",
      " ['2023-04-10' 'Ireland' 'Product A' '75' '1000']\n",
      " ['2023-05-05' 'Germany' 'Product B' '300' '4000']]\n",
      "(20, 5)\n"
     ]
    }
   ],
   "source": [
    "import numpy as np #Import numpy\n",
    "Data = np.load(\"sales_data.npy\") # Load the data and declare a variable for it\n",
    "print(Data) #Printing the data\n",
    "print(Data.shape)"
   ]
  },
  {
   "cell_type": "markdown",
   "metadata": {
    "id": "vtO8uN-kxpv0"
   },
   "source": [
    "## Question 2: Slice the array to extract the sales data for the year 2022."
   ]
  },
  {
   "cell_type": "code",
   "execution_count": 13,
   "metadata": {
    "colab": {
     "base_uri": "https://localhost:8080/"
    },
    "id": "KhVF9rOGxykM",
    "outputId": "70882faf-63b7-439a-f57f-d3deaba018eb"
   },
   "outputs": [
    {
     "name": "stdout",
     "output_type": "stream",
     "text": [
      "['2022-01-01' 'USA' 'Product A' '100' '1000']\n",
      "['2022-02-15' 'France' 'Product B' '200' '2500']\n",
      "['2022-03-20' 'England' 'Product C' '150' '2000']\n",
      "['2022-04-10' 'Ireland' 'Product A' '75' '1000']\n",
      "['2022-05-05' 'Germany' 'Product B' '300' '4000']\n"
     ]
    }
   ],
   "source": [
    "for i in range(len(Data)):\n",
    "  if '2022' in Data[i,0]:\n",
    "    print(Data[i])"
   ]
  },
  {
   "cell_type": "markdown",
   "metadata": {
    "id": "lxnB2f6xAENC"
   },
   "source": [
    "## Question 3: Calculate the total sales amount for each country for the year 2022."
   ]
  },
  {
   "cell_type": "code",
   "execution_count": 14,
   "metadata": {
    "colab": {
     "base_uri": "https://localhost:8080/"
    },
    "id": "MlkKm23aAKz3",
    "outputId": "87836afc-e1b5-4ec9-ca21-6d12a4fc01b3"
   },
   "outputs": [
    {
     "name": "stdout",
     "output_type": "stream",
     "text": [
      "Country: USA Sales: 100\n",
      "Country: France Sales: 200\n",
      "Country: England Sales: 150\n",
      "Country: Ireland Sales: 75\n",
      "Country: Germany Sales: 300\n",
      "Total Sales in 2022: 825\n"
     ]
    }
   ],
   "source": [
    "total = 0\n",
    "for i in range(len(Data)):\n",
    "  if '2022' in Data[i,0]:\n",
    "    total+=int(Data[i,3])\n",
    "    print(\"Country:\",Data[i,1],\"Sales:\",Data[i,3],end=\"\\n\")\n",
    "print(\"Total Sales in 2022:\",total)"
   ]
  },
  {
   "cell_type": "markdown",
   "metadata": {
    "id": "-bjZBsB4CkSp"
   },
   "source": [
    "## Question 4: Calculate the mean sales amount for each product over the entire period."
   ]
  },
  {
   "cell_type": "code",
   "execution_count": 15,
   "metadata": {
    "colab": {
     "base_uri": "https://localhost:8080/"
    },
    "id": "fpVGuJB2DPzy",
    "outputId": "66f274f7-b07e-4524-9c5e-c2703e82b6c6"
   },
   "outputs": [
    {
     "name": "stdout",
     "output_type": "stream",
     "text": [
      "Product mean for Product A: 1000.0\n",
      "Product mean for Product B: 3250.0\n",
      "Product mean for Product C: 2000.0\n",
      "Total product mean: 41.25\n"
     ]
    }
   ],
   "source": [
    "TotalProductA=[]\n",
    "TotalProductB=[]\n",
    "TotalProductC=[]\n",
    "for i in range(len(Data)):\n",
    "  if 'Product A' in Data[i,2]:\n",
    "    TotalProductA.append(int(Data[i,4]))\n",
    "  if 'Product B' in Data[i,2]:\n",
    "    TotalProductB.append(int(Data[i,4]))\n",
    "  if 'Product C' in Data[i,2]:\n",
    "    TotalProductC.append(int(Data[i,4]))\n",
    "print(\"Product mean for Product A:\",sum(TotalProductA)/len(TotalProductA))\n",
    "print(\"Product mean for Product B:\",sum(TotalProductB)/len(TotalProductB))\n",
    "print(\"Product mean for Product C:\",sum(TotalProductC)/len(TotalProductC))\n",
    "print(\"Total product mean:\", total/len(Data))"
   ]
  },
  {
   "cell_type": "markdown",
   "metadata": {
    "id": "IYsf8gPALz8q"
   },
   "source": [
    "## Question 5: Extract the total sales amount for each country for the year 2023 and Append it to aseparate array."
   ]
  },
  {
   "cell_type": "code",
   "execution_count": 16,
   "metadata": {
    "colab": {
     "base_uri": "https://localhost:8080/"
    },
    "id": "mfmVv0ipL4BR",
    "outputId": "b93afd2c-27fc-400f-e948-71c1bd3d4aa1"
   },
   "outputs": [
    {
     "name": "stdout",
     "output_type": "stream",
     "text": [
      "2023 Sales:\n",
      " [['2023-01-01' 'USA' 'Product A' '100' '1000']\n",
      " ['2023-02-15' 'France' 'Product B' '200' '2500']\n",
      " ['2023-03-20' 'England' 'Product C' '150' '2000']\n",
      " ['2023-04-10' 'Ireland' 'Product A' '75' '1000']\n",
      " ['2023-05-05' 'Germany' 'Product B' '300' '4000']]\n"
     ]
    }
   ],
   "source": [
    "Data2023 = []\n",
    "for i in range(len(Data)):\n",
    "  if '2023' in Data[i,0]:\n",
    "    Data2023.append(Data[i])\n",
    "Data2023 = np.array(Data2023)\n",
    "print('2023 Sales:\\n',Data2023)"
   ]
  },
  {
   "cell_type": "markdown",
   "metadata": {
    "id": "KOzSWJbwWocp"
   },
   "source": [
    "## Question 6: Delete the sales data for Ireland for the year 2021."
   ]
  },
  {
   "cell_type": "code",
   "execution_count": 17,
   "metadata": {
    "colab": {
     "base_uri": "https://localhost:8080/"
    },
    "id": "mAWcbqSoWs1d",
    "outputId": "7995339d-34bf-4c12-cb25-d54a8ecc5970"
   },
   "outputs": [
    {
     "name": "stdout",
     "output_type": "stream",
     "text": [
      "Ireland deleted sales in 2021:\n",
      " [['2020-01-01' 'USA' 'Product A' '100' '1000']\n",
      " ['2020-02-15' 'France' 'Product B' '200' '2500']\n",
      " ['2020-03-20' 'England' 'Product C' '150' '2000']\n",
      " ['2020-04-10' 'Ireland' 'Product A' '75' '1000']\n",
      " ['2020-05-05' 'Germany' 'Product B' '300' '4000']\n",
      " ['2021-01-01' 'USA' 'Product A' '100' '1000']\n",
      " ['2021-02-15' 'France' 'Product B' '200' '2500']\n",
      " ['2021-03-20' 'England' 'Product C' '150' '2000']\n",
      " ['2021-05-05' 'Germany' 'Product B' '300' '4000']\n",
      " ['2022-01-01' 'USA' 'Product A' '100' '1000']\n",
      " ['2022-02-15' 'France' 'Product B' '200' '2500']\n",
      " ['2022-03-20' 'England' 'Product C' '150' '2000']\n",
      " ['2022-04-10' 'Ireland' 'Product A' '75' '1000']\n",
      " ['2022-05-05' 'Germany' 'Product B' '300' '4000']\n",
      " ['2023-01-01' 'USA' 'Product A' '100' '1000']\n",
      " ['2023-02-15' 'France' 'Product B' '200' '2500']\n",
      " ['2023-03-20' 'England' 'Product C' '150' '2000']\n",
      " ['2023-04-10' 'Ireland' 'Product A' '75' '1000']\n",
      " ['2023-05-05' 'Germany' 'Product B' '300' '4000']]\n"
     ]
    }
   ],
   "source": [
    "Delete2021 = Data.copy()\n",
    "for i in range(len(Data)):\n",
    "  if '2021' in Data[i,0] and 'Ireland' in Data[i,1]:\n",
    "    Delete2021 = np.delete(Delete2021 , i ,0)\n",
    "print('Ireland deleted sales in 2021:\\n',Delete2021)"
   ]
  },
  {
   "cell_type": "markdown",
   "metadata": {
    "id": "ET9o3aZ-dG6Y"
   },
   "source": [
    "## Question 7: Find the unique product names and print them sorted alphabetically.\n"
   ]
  },
  {
   "cell_type": "code",
   "execution_count": 18,
   "metadata": {
    "colab": {
     "base_uri": "https://localhost:8080/"
    },
    "id": "f_nHOSkPdmXN",
    "outputId": "f6a05ac4-6d61-4e76-b3f4-f768c9464b99"
   },
   "outputs": [
    {
     "name": "stdout",
     "output_type": "stream",
     "text": [
      "Unique sorted product names:\n",
      " ['Product A', 'Product B', 'Product C']\n"
     ]
    }
   ],
   "source": [
    "UniqueData=Data[:,2]\n",
    "UniqueData = np.unique(UniqueData)\n",
    "UniqueData = sorted(UniqueData)\n",
    "print('Unique sorted product names:\\n',UniqueData)"
   ]
  },
  {
   "cell_type": "markdown",
   "metadata": {
    "id": "S8HnQFNel9Hf"
   },
   "source": [
    "Question 8: Create a 2D array with random values of shape (20, 3) and concatenate it with the salesdata array along the second axis."
   ]
  },
  {
   "cell_type": "code",
   "execution_count": 19,
   "metadata": {
    "colab": {
     "base_uri": "https://localhost:8080/"
    },
    "id": "orJ7KATemCNL",
    "outputId": "0855fb7e-655d-4165-db33-683a04c0a596"
   },
   "outputs": [
    {
     "name": "stdout",
     "output_type": "stream",
     "text": [
      "[['2020-01-01' 'USA' 'Product A' '100' '1000' '1' '0' '1']\n",
      " ['2020-02-15' 'France' 'Product B' '200' '2500' '0' '0' '1']\n",
      " ['2020-03-20' 'England' 'Product C' '150' '2000' '0' '1' '0']\n",
      " ['2020-04-10' 'Ireland' 'Product A' '75' '1000' '0' '0' '0']\n",
      " ['2020-05-05' 'Germany' 'Product B' '300' '4000' '0' '0' '0']\n",
      " ['2021-01-01' 'USA' 'Product A' '100' '1000' '1' '0' '0']\n",
      " ['2021-02-15' 'France' 'Product B' '200' '2500' '0' '1' '1']\n",
      " ['2021-03-20' 'England' 'Product C' '150' '2000' '1' '1' '1']\n",
      " ['2021-04-10' 'Ireland' 'Product A' '75' '1000' '1' '0' '0']\n",
      " ['2021-05-05' 'Germany' 'Product B' '300' '4000' '0' '1' '1']\n",
      " ['2022-01-01' 'USA' 'Product A' '100' '1000' '0' '1' '0']\n",
      " ['2022-02-15' 'France' 'Product B' '200' '2500' '1' '1' '0']\n",
      " ['2022-03-20' 'England' 'Product C' '150' '2000' '1' '1' '0']\n",
      " ['2022-04-10' 'Ireland' 'Product A' '75' '1000' '1' '1' '1']\n",
      " ['2022-05-05' 'Germany' 'Product B' '300' '4000' '0' '0' '0']\n",
      " ['2023-01-01' 'USA' 'Product A' '100' '1000' '1' '0' '1']\n",
      " ['2023-02-15' 'France' 'Product B' '200' '2500' '0' '0' '1']\n",
      " ['2023-03-20' 'England' 'Product C' '150' '2000' '1' '0' '0']\n",
      " ['2023-04-10' 'Ireland' 'Product A' '75' '1000' '0' '0' '0']\n",
      " ['2023-05-05' 'Germany' 'Product B' '300' '4000' '0' '1' '1']]\n"
     ]
    }
   ],
   "source": [
    "random2d = np.random.randint(0,2,(20,3))\n",
    "random2d = np.concatenate((Data,random2d), axis=1)\n",
    "print(random2d)"
   ]
  },
  {
   "cell_type": "markdown",
   "metadata": {
    "id": "SsYg4z4BnKvw"
   },
   "source": [
    "Question 9: Save the output in modifiedsalesdata.npy and Explain what happened to the matrix bydoing the concatenation above."
   ]
  },
  {
   "cell_type": "code",
   "execution_count": 20,
   "metadata": {
    "id": "lL7NJ7b1nPdD"
   },
   "outputs": [],
   "source": [
    "np.save('modifiedsalesdata.npy',random2d)"
   ]
  },
  {
   "cell_type": "code",
   "execution_count": null,
   "metadata": {},
   "outputs": [],
   "source": []
  }
 ],
 "metadata": {
  "colab": {
   "provenance": []
  },
  "kernelspec": {
   "display_name": "Python 3 (ipykernel)",
   "language": "python",
   "name": "python3"
  },
  "language_info": {
   "codemirror_mode": {
    "name": "ipython",
    "version": 3
   },
   "file_extension": ".py",
   "mimetype": "text/x-python",
   "name": "python",
   "nbconvert_exporter": "python",
   "pygments_lexer": "ipython3",
   "version": "3.9.13"
  }
 },
 "nbformat": 4,
 "nbformat_minor": 4
}

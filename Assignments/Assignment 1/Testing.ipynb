{
 "cells": [
  {
   "cell_type": "code",
   "execution_count": 24,
   "id": "7817232d-d8a4-488a-aa85-38a24b293adc",
   "metadata": {},
   "outputs": [],
   "source": [
    "import numpy as np"
   ]
  },
  {
   "cell_type": "code",
   "execution_count": 28,
   "id": "230083c8-2748-49c6-ab28-8dacd8a658e8",
   "metadata": {},
   "outputs": [
    {
     "name": "stdout",
     "output_type": "stream",
     "text": [
      "[[48 19 46 65 82]\n",
      " [79 44 81 78 50]\n",
      " [23  8 81 40 41]\n",
      " [65 31 79 67 23]]\n"
     ]
    }
   ],
   "source": [
    "a = np.random.randint(1,100,size=(4,5))\n",
    "print(a)"
   ]
  },
  {
   "cell_type": "code",
   "execution_count": 49,
   "id": "33cf1c69-176b-4ec6-9b25-676d8e4dd146",
   "metadata": {},
   "outputs": [
    {
     "name": "stdout",
     "output_type": "stream",
     "text": [
      "[0. 0. 0. 0.]\n"
     ]
    },
    {
     "data": {
      "text/plain": [
       "array([[48, 19,  0, 46, 65, 82],\n",
       "       [79, 44,  0, 81, 78, 50],\n",
       "       [23,  8,  0, 81, 40, 41],\n",
       "       [65, 31,  0, 79, 67, 23]])"
      ]
     },
     "execution_count": 49,
     "metadata": {},
     "output_type": "execute_result"
    }
   ],
   "source": [
    "z = np.zeros(4)\n",
    "print(z)\n",
    "np.insert(a, 2, z,axis=1)"
   ]
  },
  {
   "cell_type": "code",
   "execution_count": 46,
   "id": "ad2da32f-a74d-43b2-af68-a096b1783d7c",
   "metadata": {},
   "outputs": [
    {
     "data": {
      "text/plain": [
       "array([[48, 19,  0, 46, 65, 82],\n",
       "       [79, 44,  0, 81, 78, 50],\n",
       "       [23,  8,  0, 81, 40, 41],\n",
       "       [65, 31,  0, 79, 67, 23]])"
      ]
     },
     "execution_count": 46,
     "metadata": {},
     "output_type": "execute_result"
    }
   ],
   "source": [
    "np.insert(a,2,np.zeros(1),axis=1)"
   ]
  },
  {
   "cell_type": "code",
   "execution_count": null,
   "id": "93233b39-495c-4d0b-a1b5-6b90301b3a0f",
   "metadata": {},
   "outputs": [],
   "source": []
  }
 ],
 "metadata": {
  "kernelspec": {
   "display_name": "Python 3 (ipykernel)",
   "language": "python",
   "name": "python3"
  },
  "language_info": {
   "codemirror_mode": {
    "name": "ipython",
    "version": 3
   },
   "file_extension": ".py",
   "mimetype": "text/x-python",
   "name": "python",
   "nbconvert_exporter": "python",
   "pygments_lexer": "ipython3",
   "version": "3.9.13"
  }
 },
 "nbformat": 4,
 "nbformat_minor": 5
}

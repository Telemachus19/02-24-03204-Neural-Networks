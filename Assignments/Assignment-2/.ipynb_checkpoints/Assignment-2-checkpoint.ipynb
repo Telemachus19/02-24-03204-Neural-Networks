{
 "cells": [
  {
   "cell_type": "markdown",
   "id": "111d7ada-8506-4b9e-8ec0-cf37f31b5e14",
   "metadata": {},
   "source": [
    "|Name | Department | ID        |\n",
    "|-----| ---------- | --------- |\n",
    "| Ahmed Ashraf Mohamed | AI | 2103134 |"
   ]
  },
  {
   "cell_type": "markdown",
   "id": "d07d20f1-7270-4aff-b83c-1b16b9385b14",
   "metadata": {},
   "source": [
    "Importing the libraries that are going to be used"
   ]
  },
  {
   "cell_type": "code",
   "execution_count": 101,
   "id": "55a5a7ad",
   "metadata": {},
   "outputs": [],
   "source": [
    "from sklearn.model_selection import train_test_split # used for easier splitting of the data and also stratifying the data\n",
    "from sklearn.metrics import accuracy_score # used for accuracy score function which return the accuracy of our model\n",
    "# importing numpy and pandas libraries\n",
    "import numpy as np \n",
    "import pandas as pd"
   ]
  },
  {
   "cell_type": "markdown",
   "id": "c9009641",
   "metadata": {},
   "source": [
    "# Reading data's file "
   ]
  },
  {
   "cell_type": "code",
   "execution_count": 102,
   "id": "d8e76416",
   "metadata": {
    "scrolled": true
   },
   "outputs": [
    {
     "data": {
      "text/html": [
       "<div>\n",
       "<style scoped>\n",
       "    .dataframe tbody tr th:only-of-type {\n",
       "        vertical-align: middle;\n",
       "    }\n",
       "\n",
       "    .dataframe tbody tr th {\n",
       "        vertical-align: top;\n",
       "    }\n",
       "\n",
       "    .dataframe thead th {\n",
       "        text-align: right;\n",
       "    }\n",
       "</style>\n",
       "<table border=\"1\" class=\"dataframe\">\n",
       "  <thead>\n",
       "    <tr style=\"text-align: right;\">\n",
       "      <th></th>\n",
       "      <th>0</th>\n",
       "      <th>1</th>\n",
       "      <th>2</th>\n",
       "      <th>3</th>\n",
       "      <th>4</th>\n",
       "    </tr>\n",
       "  </thead>\n",
       "  <tbody>\n",
       "    <tr>\n",
       "      <th>0</th>\n",
       "      <td>5.1</td>\n",
       "      <td>3.5</td>\n",
       "      <td>1.4</td>\n",
       "      <td>0.2</td>\n",
       "      <td>Iris-setosa</td>\n",
       "    </tr>\n",
       "    <tr>\n",
       "      <th>1</th>\n",
       "      <td>4.9</td>\n",
       "      <td>3.0</td>\n",
       "      <td>1.4</td>\n",
       "      <td>0.2</td>\n",
       "      <td>Iris-setosa</td>\n",
       "    </tr>\n",
       "    <tr>\n",
       "      <th>2</th>\n",
       "      <td>4.7</td>\n",
       "      <td>3.2</td>\n",
       "      <td>1.3</td>\n",
       "      <td>0.2</td>\n",
       "      <td>Iris-setosa</td>\n",
       "    </tr>\n",
       "    <tr>\n",
       "      <th>3</th>\n",
       "      <td>4.6</td>\n",
       "      <td>3.1</td>\n",
       "      <td>1.5</td>\n",
       "      <td>0.2</td>\n",
       "      <td>Iris-setosa</td>\n",
       "    </tr>\n",
       "    <tr>\n",
       "      <th>4</th>\n",
       "      <td>5.0</td>\n",
       "      <td>3.6</td>\n",
       "      <td>1.4</td>\n",
       "      <td>0.2</td>\n",
       "      <td>Iris-setosa</td>\n",
       "    </tr>\n",
       "  </tbody>\n",
       "</table>\n",
       "</div>"
      ],
      "text/plain": [
       "     0    1    2    3            4\n",
       "0  5.1  3.5  1.4  0.2  Iris-setosa\n",
       "1  4.9  3.0  1.4  0.2  Iris-setosa\n",
       "2  4.7  3.2  1.3  0.2  Iris-setosa\n",
       "3  4.6  3.1  1.5  0.2  Iris-setosa\n",
       "4  5.0  3.6  1.4  0.2  Iris-setosa"
      ]
     },
     "execution_count": 102,
     "metadata": {},
     "output_type": "execute_result"
    }
   ],
   "source": [
    "dataframe = pd.read_csv('iris.csv',header = None) # droping the headear\n",
    "dataframe.head()"
   ]
  },
  {
   "cell_type": "markdown",
   "id": "a7d70bb7",
   "metadata": {},
   "source": [
    "##  Separating the data's feature and lable"
   ]
  },
  {
   "cell_type": "code",
   "execution_count": 103,
   "id": "ef80fa0e",
   "metadata": {
    "scrolled": true
   },
   "outputs": [
    {
     "name": "stdout",
     "output_type": "stream",
     "text": [
      "feature Vector\n",
      "     0    1    2    3\n",
      "0  5.1  3.5  1.4  0.2\n",
      "1  4.9  3.0  1.4  0.2\n",
      "2  4.7  3.2  1.3  0.2\n",
      "3  4.6  3.1  1.5  0.2\n",
      "4  5.0  3.6  1.4  0.2\n",
      "----------\n",
      "Label Vector\n",
      "0    Iris-setosa\n",
      "1    Iris-setosa\n",
      "2    Iris-setosa\n",
      "3    Iris-setosa\n",
      "4    Iris-setosa\n",
      "Name: 4, dtype: object\n"
     ]
    }
   ],
   "source": [
    "X = df.iloc[:,:-1]\n",
    "Y = df.iloc[:,-1]\n",
    "print(\"feature Vector\")\n",
    "print(X.head())\n",
    "print(\"-\"*10)\n",
    "print(\"Label Vector\")\n",
    "print(Y.head())"
   ]
  },
  {
   "cell_type": "markdown",
   "id": "9350cbd0",
   "metadata": {},
   "source": [
    "## Transform the class from Strings to values"
   ]
  },
  {
   "cell_type": "code",
   "execution_count": 104,
   "id": "5d38b75e",
   "metadata": {},
   "outputs": [
    {
     "data": {
      "text/plain": [
       "array([0, 0, 0, 0, 0, 0, 0, 0, 0, 0, 0, 0, 0, 0, 0, 0, 0, 0, 0, 0, 0, 0,\n",
       "       0, 0, 0, 0, 0, 0, 0, 0, 0, 0, 0, 0, 0, 0, 0, 0, 0, 0, 0, 0, 0, 0,\n",
       "       0, 0, 0, 0, 0, 0, 1, 1, 1, 1, 1, 1, 1, 1, 1, 1, 1, 1, 1, 1, 1, 1,\n",
       "       1, 1, 1, 1, 1, 1, 1, 1, 1, 1, 1, 1, 1, 1, 1, 1, 1, 1, 1, 1, 1, 1,\n",
       "       1, 1, 1, 1, 1, 1, 1, 1, 1, 1, 1, 1])"
      ]
     },
     "execution_count": 104,
     "metadata": {},
     "output_type": "execute_result"
    }
   ],
   "source": [
    "Y = np.where(Y == \"Iris-setosa\",0,1) # replace every Iris-setosa with a 0 and everything else with a 1\n",
    "Y"
   ]
  },
  {
   "cell_type": "markdown",
   "id": "0da45174",
   "metadata": {},
   "source": [
    "## splitting the data"
   ]
  },
  {
   "cell_type": "markdown",
   "id": "60769383-baa0-48f9-a538-57d76d4bf8ce",
   "metadata": {},
   "source": [
    "Splitting the data using the sklearn's built-in function and show the count of each class"
   ]
  },
  {
   "cell_type": "code",
   "execution_count": 105,
   "id": "40cff15f",
   "metadata": {},
   "outputs": [],
   "source": [
    "X_trian,X_test,y_trian,y_test = train_test_split(X,Y,test_size = 0.3,stratify = Y) # splitting the data using the sklearn's built-in train test split function"
   ]
  },
  {
   "cell_type": "code",
   "execution_count": 106,
   "id": "fc43192b",
   "metadata": {},
   "outputs": [
    {
     "data": {
      "text/plain": [
       "0    35\n",
       "1    35\n",
       "dtype: int64"
      ]
     },
     "execution_count": 106,
     "metadata": {},
     "output_type": "execute_result"
    }
   ],
   "source": [
    "pd.DataFrame(y_trian).value_counts() # showing the count of each class in our data"
   ]
  },
  {
   "cell_type": "code",
   "execution_count": 107,
   "id": "60a1e241",
   "metadata": {},
   "outputs": [
    {
     "data": {
      "text/plain": [
       "0    15\n",
       "1    15\n",
       "dtype: int64"
      ]
     },
     "execution_count": 107,
     "metadata": {},
     "output_type": "execute_result"
    }
   ],
   "source": [
    "pd.DataFrame(y_test).value_counts() # showing the count of each class in our data."
   ]
  },
  {
   "cell_type": "markdown",
   "id": "882b0ef8",
   "metadata": {},
   "source": [
    "## Perceptron algorithm"
   ]
  },
  {
   "cell_type": "markdown",
   "id": "72b53624-fd8f-4536-bc25-15dd2f311d9c",
   "metadata": {},
   "source": [
    "Defining the activiation function that is going to be used for the perceptron algorithm."
   ]
  },
  {
   "cell_type": "code",
   "execution_count": 110,
   "id": "d6618d54",
   "metadata": {},
   "outputs": [],
   "source": [
    "def binary_step_func(net,threshold):\n",
    "    return np.where(net >= threshold, 1, 0)\n"
   ]
  },
  {
   "cell_type": "markdown",
   "id": "78b3cba0-bcc0-4696-9e0d-81736ae9a440",
   "metadata": {},
   "source": [
    "Defining a class for the percertron algorithm to make it easier to call later."
   ]
  },
  {
   "cell_type": "code",
   "execution_count": 111,
   "id": "834c314a",
   "metadata": {},
   "outputs": [],
   "source": [
    "class Perceptron:\n",
    "\n",
    "    def __init__(self, learning_rate=0.01, n_iteration=1000, threshold = 0.5):\n",
    "        self.lr = learning_rate\n",
    "        self.n_iteration = n_iteration\n",
    "        self.activation_func = binary_step_func\n",
    "        self.threshold = threshold\n",
    "        self.weights = None\n",
    "        self.bias = None\n",
    "\n",
    "      # fitting the data on the perceptron\n",
    "    def fit(self, X, y):\n",
    "        n_samples, n_features = X.shape  #n_samples=rows    n_features=columns\n",
    "\n",
    "        # initial weights and bias\n",
    "        self.weights = np.random.random(n_features)\n",
    "        self.bias = random.randint(0,1)\n",
    "\n",
    "        # applying Perceptron algorithm\n",
    "        for iteration in range(self.n_iteration):\n",
    "            # calculating the net using the dot prodcut property\n",
    "            net = np.dot(X, self.weights) + self.bias            \n",
    "            # applying  activation function on net\n",
    "            y_predicted =self.activation_func(net,self.threshold)\n",
    "            MSE=(1/n_samples)*np.sum((y - y_predicted)**2)\n",
    "\n",
    "            for i in range(len(X)):       \n",
    "             #  Updating weights and bias\n",
    "                delta = self.lr * MSE \n",
    "                #print(X[i]) for tracing\n",
    "                #print(MSE)\n",
    "                \n",
    "                self.weights += delta * X[i]\n",
    "                self.bias += delta\n",
    "\n",
    "    def predict(self,X,threshold):\n",
    "        net = np.dot(X, self.weights) + self.bias\n",
    "        y_predicted = self.activation_func(net,threshold)\n",
    "        return y_predicted"
   ]
  },
  {
   "cell_type": "markdown",
   "id": "d3a826ee",
   "metadata": {},
   "source": [
    "## fitting the algotrithm on the data"
   ]
  },
  {
   "cell_type": "code",
   "execution_count": 112,
   "id": "0975a98b",
   "metadata": {},
   "outputs": [],
   "source": [
    "q = Perceptron(0.01,10000,0)\n",
    "q.fit(np.array(X_trian),np.array(y_trian))"
   ]
  },
  {
   "cell_type": "markdown",
   "id": "08ae11cd",
   "metadata": {},
   "source": [
    "## Testing"
   ]
  },
  {
   "cell_type": "code",
   "execution_count": 113,
   "id": "59d80f2e",
   "metadata": {},
   "outputs": [],
   "source": [
    "result = q.predict(X_test,y_test)"
   ]
  },
  {
   "cell_type": "markdown",
   "id": "c184c526",
   "metadata": {},
   "source": [
    "## Accuracy checking"
   ]
  },
  {
   "cell_type": "code",
   "execution_count": 116,
   "id": "ceee98d6",
   "metadata": {},
   "outputs": [
    {
     "name": "stdout",
     "output_type": "stream",
     "text": [
      "Accuracy: 50.0%\n"
     ]
    }
   ],
   "source": [
    "print(f'Accuracy: {accuracy_score(y_test,result) * 100}%')"
   ]
  },
  {
   "cell_type": "markdown",
   "id": "9bba6b97-8491-4566-b8e9-891eeaa396cb",
   "metadata": {},
   "source": [
    "Whether the threshold change or not the accuracy of the of perceptron will remain the same."
   ]
  }
 ],
 "metadata": {
  "kernelspec": {
   "display_name": "Python 3 (ipykernel)",
   "language": "python",
   "name": "python3"
  },
  "language_info": {
   "codemirror_mode": {
    "name": "ipython",
    "version": 3
   },
   "file_extension": ".py",
   "mimetype": "text/x-python",
   "name": "python",
   "nbconvert_exporter": "python",
   "pygments_lexer": "ipython3",
   "version": "3.9.13"
  }
 },
 "nbformat": 4,
 "nbformat_minor": 5
}

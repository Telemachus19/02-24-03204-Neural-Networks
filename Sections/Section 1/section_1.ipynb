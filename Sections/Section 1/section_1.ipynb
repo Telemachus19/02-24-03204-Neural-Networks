{
  "nbformat": 4,
  "nbformat_minor": 0,
  "metadata": {
    "colab": {
      "provenance": []
    },
    "kernelspec": {
      "name": "python3",
      "display_name": "Python 3"
    },
    "language_info": {
      "name": "python"
    }
  },
  "cells": [
    {
      "cell_type": "markdown",
      "source": [
        "## Importing the library"
      ],
      "metadata": {
        "id": "Ci1Qn7PnRKsa"
      }
    },
    {
      "cell_type": "code",
      "execution_count": null,
      "metadata": {
        "id": "QO_XoaX9Q9aM"
      },
      "outputs": [],
      "source": [
        "import numpy as np"
      ]
    },
    {
      "cell_type": "markdown",
      "source": [
        "### Creating a python list"
      ],
      "metadata": {
        "id": "1wybltu6RSm2"
      }
    },
    {
      "cell_type": "code",
      "source": [
        "python_list = [1 , 2 , 3]\n",
        "print(python_list)"
      ],
      "metadata": {
        "colab": {
          "base_uri": "https://localhost:8080/"
        },
        "id": "SNc6c8XXRRiW",
        "outputId": "1493999a-58eb-4e16-d960-084567e7d93f"
      },
      "execution_count": null,
      "outputs": [
        {
          "output_type": "stream",
          "name": "stdout",
          "text": [
            "[1, 2, 3]\n"
          ]
        }
      ]
    },
    {
      "cell_type": "code",
      "source": [
        "python_list.append(4)\n",
        "print(python_list)"
      ],
      "metadata": {
        "colab": {
          "base_uri": "https://localhost:8080/"
        },
        "id": "-74OQ-k3TwJY",
        "outputId": "109bd10b-18c4-4247-af4a-178d1f586383"
      },
      "execution_count": null,
      "outputs": [
        {
          "output_type": "stream",
          "name": "stdout",
          "text": [
            "[1, 2, 3, 4]\n"
          ]
        }
      ]
    },
    {
      "cell_type": "markdown",
      "source": [
        "### Creating a numpy array"
      ],
      "metadata": {
        "id": "z3bHyEj6ReLj"
      }
    },
    {
      "cell_type": "code",
      "source": [
        "python_list = [1 , 2 , 3]\n",
        "numpy_array = np.array(python_list)\n",
        "print(numpy_array)"
      ],
      "metadata": {
        "colab": {
          "base_uri": "https://localhost:8080/"
        },
        "id": "gaHQ-54bRc1S",
        "outputId": "0e27b207-f8ea-4ac7-de45-7935b6191f7a"
      },
      "execution_count": null,
      "outputs": [
        {
          "output_type": "stream",
          "name": "stdout",
          "text": [
            "[1 2 3]\n"
          ]
        }
      ]
    },
    {
      "cell_type": "code",
      "source": [
        "numpy_array = np.array([1 , 2 , 3])\n",
        "print(numpy_array)"
      ],
      "metadata": {
        "colab": {
          "base_uri": "https://localhost:8080/"
        },
        "id": "nGDcMZ9pTtJE",
        "outputId": "cd9ad0e1-6121-47c0-e5b7-9a4befefe3f0"
      },
      "execution_count": null,
      "outputs": [
        {
          "output_type": "stream",
          "name": "stdout",
          "text": [
            "[1 2 3]\n"
          ]
        }
      ]
    },
    {
      "cell_type": "markdown",
      "source": [
        "### Numpy array operations 1"
      ],
      "metadata": {
        "id": "hrrWQdnkSZli"
      }
    },
    {
      "cell_type": "code",
      "source": [
        "# Append number\n",
        "numpy_array = np.append(numpy_array , 4)\n",
        "print(numpy_array)"
      ],
      "metadata": {
        "colab": {
          "base_uri": "https://localhost:8080/"
        },
        "id": "NfhdRVkdSePc",
        "outputId": "4cbfe7fc-34b0-49a6-bbf6-3968002f44dc"
      },
      "execution_count": null,
      "outputs": [
        {
          "output_type": "stream",
          "name": "stdout",
          "text": [
            "[1 2 3 4]\n"
          ]
        }
      ]
    },
    {
      "cell_type": "code",
      "source": [
        "# Insert at index\n",
        "print(numpy_array)\n",
        "numpy_array = np.insert(numpy_array , 2 ,10)\n",
        "print(numpy_array)"
      ],
      "metadata": {
        "colab": {
          "base_uri": "https://localhost:8080/"
        },
        "id": "qhBHc7YHovjk",
        "outputId": "7212e069-8c23-4f10-ceb4-576c5efb019e"
      },
      "execution_count": null,
      "outputs": [
        {
          "output_type": "stream",
          "name": "stdout",
          "text": [
            "[1 2 3 4]\n",
            "[ 1  2 10  3  4]\n"
          ]
        }
      ]
    },
    {
      "cell_type": "code",
      "source": [
        "# Delete Number (delete first encounter)\n",
        "numpy_array = np.delete(numpy_array , 2 )\n",
        "print(numpy_array)"
      ],
      "metadata": {
        "colab": {
          "base_uri": "https://localhost:8080/"
        },
        "id": "VZYHDh8ZTm4J",
        "outputId": "a6d0ff52-3eb8-4b4e-b096-f5e22397c577"
      },
      "execution_count": null,
      "outputs": [
        {
          "output_type": "stream",
          "name": "stdout",
          "text": [
            "[1 2 3 4]\n"
          ]
        }
      ]
    },
    {
      "cell_type": "code",
      "source": [
        "# Get Maximum/Minimum Number\n",
        "print(numpy_array) \n",
        "max = np.max(numpy_array)\n",
        "print(max)\n",
        "min = np.min(numpy_array)\n",
        "print(min)"
      ],
      "metadata": {
        "colab": {
          "base_uri": "https://localhost:8080/"
        },
        "id": "eFCXW4ljoFqj",
        "outputId": "2b3d058a-6a28-4da5-8eaf-b99e18a9d601"
      },
      "execution_count": null,
      "outputs": [
        {
          "output_type": "stream",
          "name": "stdout",
          "text": [
            "[1 2 3 4]\n",
            "4\n",
            "1\n"
          ]
        }
      ]
    },
    {
      "cell_type": "code",
      "source": [
        "# Get Mean\n",
        "print(numpy_array) \n",
        "mean = np.mean(numpy_array)\n",
        "print(mean)"
      ],
      "metadata": {
        "colab": {
          "base_uri": "https://localhost:8080/"
        },
        "id": "WyfIUTe7oXns",
        "outputId": "a0fc7590-9b98-4825-97c5-49b4657dc734"
      },
      "execution_count": null,
      "outputs": [
        {
          "output_type": "stream",
          "name": "stdout",
          "text": [
            "[1 2 3 4]\n",
            "2.5\n"
          ]
        }
      ]
    },
    {
      "cell_type": "code",
      "source": [
        "# Get Unique values\n",
        "numpy_array = np.array([1 , 1 , 1 , 2 , 3 ])\n",
        "unique_values = np.unique(numpy_array)\n",
        "print(unique_values) "
      ],
      "metadata": {
        "colab": {
          "base_uri": "https://localhost:8080/"
        },
        "id": "jYnXyJr9TnDq",
        "outputId": "bf456e22-f146-40d8-84ec-8c7ee720164f"
      },
      "execution_count": null,
      "outputs": [
        {
          "output_type": "stream",
          "name": "stdout",
          "text": [
            "[1 2 3]\n"
          ]
        }
      ]
    },
    {
      "cell_type": "code",
      "source": [
        "# Get count of unique values\n",
        "unique_values = np.unique(numpy_array , return_counts = True)\n",
        "print(unique_values)"
      ],
      "metadata": {
        "colab": {
          "base_uri": "https://localhost:8080/"
        },
        "id": "lKj-RytwTz5f",
        "outputId": "49cb1dc5-a525-4de3-dcf8-55c8442779fb"
      },
      "execution_count": null,
      "outputs": [
        {
          "output_type": "stream",
          "name": "stdout",
          "text": [
            "(array([1, 2, 3]), array([3, 1, 1]))\n"
          ]
        }
      ]
    },
    {
      "cell_type": "markdown",
      "source": [
        "### Python List of List"
      ],
      "metadata": {
        "id": "whgqzaRwUMdw"
      }
    },
    {
      "cell_type": "code",
      "source": [
        "python_list_1 = [1 , 2 , 3] # shape is (3,nothing)\n",
        "python_list_2 = [ [1 , 2 , 3]  , [1 , 2 , 3] ]  # shape is (2,3) A matrix\n",
        "python_list_3 = [ [1 , 2 , 3]  ]  # shape is (1,3) A matrix"
      ],
      "metadata": {
        "id": "iOkf4qyIUPZF"
      },
      "execution_count": null,
      "outputs": []
    },
    {
      "cell_type": "markdown",
      "source": [
        "### Numpy Array 0 , 1 , and 2 Dimension"
      ],
      "metadata": {
        "id": "YxnrmWxyWBEV"
      }
    },
    {
      "cell_type": "code",
      "source": [
        "numpy_arr_1 = np.array(python_list_1)\n",
        "# print shape\n",
        "print(numpy_arr_1.shape)\n",
        "# print dimension\n",
        "print(numpy_arr_1.ndim)"
      ],
      "metadata": {
        "colab": {
          "base_uri": "https://localhost:8080/"
        },
        "id": "EIFozUeEV_Zw",
        "outputId": "7854cd96-5388-4612-81a6-0c19300b87ff"
      },
      "execution_count": null,
      "outputs": [
        {
          "output_type": "stream",
          "name": "stdout",
          "text": [
            "(3,)\n",
            "1\n"
          ]
        }
      ]
    },
    {
      "cell_type": "code",
      "source": [
        "numpy_arr_2 = np.array(python_list_2)\n",
        "# print shape\n",
        "print(numpy_arr_2.shape)\n",
        "# print dimension\n",
        "print(numpy_arr_2.ndim)"
      ],
      "metadata": {
        "colab": {
          "base_uri": "https://localhost:8080/"
        },
        "id": "NgXc7rq9Uk4i",
        "outputId": "1b49369b-d4fc-41fa-dc42-fcf3d937c197"
      },
      "execution_count": null,
      "outputs": [
        {
          "output_type": "stream",
          "name": "stdout",
          "text": [
            "(2, 3)\n",
            "2\n"
          ]
        }
      ]
    },
    {
      "cell_type": "code",
      "source": [
        "numpy_arr_3 = np.array(python_list_3)\n",
        "# print shape\n",
        "print(numpy_arr_3.shape)\n",
        "# print dimension\n",
        "print(numpy_arr_3.ndim)"
      ],
      "metadata": {
        "colab": {
          "base_uri": "https://localhost:8080/"
        },
        "id": "yWTWdaTXWjDF",
        "outputId": "7e1bc4b0-2eb6-4ea7-96ad-6c5280ba286d"
      },
      "execution_count": null,
      "outputs": [
        {
          "output_type": "stream",
          "name": "stdout",
          "text": [
            "(1, 3)\n",
            "2\n"
          ]
        }
      ]
    },
    {
      "cell_type": "markdown",
      "source": [
        "### Numpy Array Operations 2"
      ],
      "metadata": {
        "id": "no3l45Z0XI2i"
      }
    },
    {
      "cell_type": "code",
      "source": [
        "# Array reshaping\n",
        "python_list = [ [1 , 2 , 3]  , [1 , 2 , 3] ]  # shape is (2,3) A matrix\n",
        "numpy_arr = np.array(python_list)\n",
        "print(numpy_arr)\n",
        "print(\"\")\n",
        "print(numpy_arr.shape)"
      ],
      "metadata": {
        "colab": {
          "base_uri": "https://localhost:8080/"
        },
        "id": "FQHknpukWyLl",
        "outputId": "e9cd9816-a5db-4ebd-fbc7-7ee9026436ae"
      },
      "execution_count": null,
      "outputs": [
        {
          "output_type": "stream",
          "name": "stdout",
          "text": [
            "[[1 2 3]\n",
            " [1 2 3]]\n",
            "\n",
            "(2, 3)\n"
          ]
        }
      ]
    },
    {
      "cell_type": "code",
      "source": [
        "# Reshape (2,3) -> (1,6)\n",
        "numpy_arr_resh = np.reshape(numpy_arr , (1,6))\n",
        "print(numpy_arr_resh)\n",
        "print(\"\")\n",
        "print(numpy_arr_resh.shape)"
      ],
      "metadata": {
        "colab": {
          "base_uri": "https://localhost:8080/"
        },
        "id": "HWgkvPgCXqQt",
        "outputId": "0014c551-8a41-4940-d759-63eb2f2ff877"
      },
      "execution_count": null,
      "outputs": [
        {
          "output_type": "stream",
          "name": "stdout",
          "text": [
            "[[1 2 3 1 2 3]]\n",
            "\n",
            "(1, 6)\n"
          ]
        }
      ]
    },
    {
      "cell_type": "code",
      "source": [
        "# Reshape (2,3) -> (1,6)\n",
        "numpy_arr_resh = np.reshape(numpy_arr , (1,5))\n",
        "print(numpy_arr_resh)\n",
        "print(\"\")\n",
        "print(numpy_arr_resh.shape)"
      ],
      "metadata": {
        "id": "9iERjVIrYUWf"
      },
      "execution_count": null,
      "outputs": []
    },
    {
      "cell_type": "code",
      "source": [
        "# Array Transposing \n",
        "python_list = [ [1 , 1 , 1]  , [2 , 2 , 2] ]  # shape is (2,3) A matrix\n",
        "numpy_arr = np.array(python_list)\n",
        "print(numpy_arr)\n",
        "print(\"\")\n",
        "print(numpy_arr.shape)"
      ],
      "metadata": {
        "colab": {
          "base_uri": "https://localhost:8080/"
        },
        "id": "xbSqDCbFY1K2",
        "outputId": "ef919b27-cd50-43b7-c3b8-a31a1f768bfb"
      },
      "execution_count": null,
      "outputs": [
        {
          "output_type": "stream",
          "name": "stdout",
          "text": [
            "[[1 1 1]\n",
            " [2 2 2]]\n",
            "\n",
            "(2, 3)\n"
          ]
        }
      ]
    },
    {
      "cell_type": "code",
      "source": [
        "import numpy as np\n",
        "arra  = np.random.randint(100 , size = (3,4))\n",
        "arra = np.reshape(arra,(2,6))\n",
        "new = np.zeros((2,6))\n",
        "arra = np.append(arra , new, axis = 0)\n",
        "arra.shape"
      ],
      "metadata": {
        "colab": {
          "base_uri": "https://localhost:8080/"
        },
        "id": "ch7NFu7X8snT",
        "outputId": "653fef8d-eecf-4195-8f06-07a6afc6ea2d"
      },
      "execution_count": null,
      "outputs": [
        {
          "output_type": "execute_result",
          "data": {
            "text/plain": [
              "(4, 6)"
            ]
          },
          "metadata": {},
          "execution_count": 9
        }
      ]
    },
    {
      "cell_type": "code",
      "source": [
        "numpy_arr_tra = np.transpose(numpy_arr)\n",
        "print(numpy_arr_tra)\n",
        "print(\"\")\n",
        "print(numpy_arr_tra.shape)"
      ],
      "metadata": {
        "colab": {
          "base_uri": "https://localhost:8080/"
        },
        "id": "Htg5WCAXY5hy",
        "outputId": "7ef67f31-7a89-469b-e6ad-69e8de32b841"
      },
      "execution_count": null,
      "outputs": [
        {
          "output_type": "stream",
          "name": "stdout",
          "text": [
            "[[1 2]\n",
            " [1 2]\n",
            " [1 2]]\n",
            "\n",
            "(3, 2)\n"
          ]
        }
      ]
    },
    {
      "cell_type": "markdown",
      "source": [
        "### Numpy Array Generation"
      ],
      "metadata": {
        "id": "-QAjoxDZaTH2"
      }
    },
    {
      "cell_type": "code",
      "source": [
        "# Genereate array of zeros\n",
        "zeros = np.zeros((3,2))\n",
        "print(zeros)"
      ],
      "metadata": {
        "colab": {
          "base_uri": "https://localhost:8080/"
        },
        "id": "mLqZf1b-aOA6",
        "outputId": "c514197b-8f68-4261-d9b0-6dbaf2916a58"
      },
      "execution_count": null,
      "outputs": [
        {
          "output_type": "stream",
          "name": "stdout",
          "text": [
            "[[0. 0.]\n",
            " [0. 0.]\n",
            " [0. 0.]]\n"
          ]
        }
      ]
    },
    {
      "cell_type": "code",
      "source": [
        "# Genereate array of ones\n",
        "ones = np.ones((3,2))\n",
        "print(ones)"
      ],
      "metadata": {
        "colab": {
          "base_uri": "https://localhost:8080/"
        },
        "id": "kd_iMnnibPdw",
        "outputId": "2c06c0c9-0dbe-4725-bdfa-deff66860282"
      },
      "execution_count": null,
      "outputs": [
        {
          "output_type": "stream",
          "name": "stdout",
          "text": [
            "[[1. 1.]\n",
            " [1. 1.]\n",
            " [1. 1.]]\n"
          ]
        }
      ]
    },
    {
      "cell_type": "code",
      "source": [
        "# Genereate array of random integers\n",
        "randoms=np.random.randint(100, size=(2 , 5))\n",
        "print(randoms)"
      ],
      "metadata": {
        "colab": {
          "base_uri": "https://localhost:8080/"
        },
        "id": "w-tq1qy8bdFJ",
        "outputId": "df98b350-d97a-4f62-83e0-b21190bd2656"
      },
      "execution_count": null,
      "outputs": [
        {
          "output_type": "stream",
          "name": "stdout",
          "text": [
            "[[74 16 17 23 12]\n",
            " [88 98 51 80 66]]\n"
          ]
        }
      ]
    },
    {
      "cell_type": "code",
      "source": [
        "# Genereate array of random between 0 - 1\n",
        "randoms=np.random.rand(2 , 5)\n",
        "print(randoms)"
      ],
      "metadata": {
        "colab": {
          "base_uri": "https://localhost:8080/"
        },
        "id": "TUZ1bnttbnqu",
        "outputId": "c45a0f98-f7e5-4769-8531-87842d792759"
      },
      "execution_count": null,
      "outputs": [
        {
          "output_type": "stream",
          "name": "stdout",
          "text": [
            "[[0.32294517 0.40017102 0.06735066 0.43154777 0.09338675]\n",
            " [0.22842331 0.869912   0.81099576 0.05274806 0.99224848]]\n"
          ]
        }
      ]
    },
    {
      "cell_type": "markdown",
      "source": [
        "### Numpy Array 3 Dimensions"
      ],
      "metadata": {
        "id": "w85LMy8DcNzN"
      }
    },
    {
      "cell_type": "code",
      "source": [
        "matrix_1 = np.array([\n",
        "    [1 , 2 , 3] ,\n",
        "    [4 , 5 , 6] ,\n",
        "    [7 , 8 , 9]\n",
        "])\n",
        "print(matrix_1.ndim)\n",
        "print(matrix_1.shape)"
      ],
      "metadata": {
        "colab": {
          "base_uri": "https://localhost:8080/"
        },
        "id": "mmTxPmsLcC3y",
        "outputId": "6e21cd6c-3c78-4f3b-bf8a-87b96313738c"
      },
      "execution_count": null,
      "outputs": [
        {
          "output_type": "stream",
          "name": "stdout",
          "text": [
            "2\n",
            "(3, 3)\n"
          ]
        }
      ]
    },
    {
      "cell_type": "code",
      "source": [
        "matrix_2 = np.array([\n",
        "    [2 , 4 , 6] ,\n",
        "    [8 , 10 , 12] ,\n",
        "    [14 , 16 , 18]\n",
        "])\n",
        "print(matrix_2.ndim)\n",
        "print(matrix_2.shape)\n"
      ],
      "metadata": {
        "colab": {
          "base_uri": "https://localhost:8080/"
        },
        "id": "buZuu8G-c3g_",
        "outputId": "15046a69-f8b1-42ee-ead4-45196b196c18"
      },
      "execution_count": null,
      "outputs": [
        {
          "output_type": "stream",
          "name": "stdout",
          "text": [
            "2\n",
            "(3, 3)\n"
          ]
        }
      ]
    },
    {
      "cell_type": "code",
      "source": [
        "numpy_array = np.array([matrix_1 , matrix_2])\n",
        "print(numpy_array)"
      ],
      "metadata": {
        "colab": {
          "base_uri": "https://localhost:8080/"
        },
        "id": "g8aWcLmSdC_l",
        "outputId": "5473fe25-3c22-43fd-fc33-5fcef200f088"
      },
      "execution_count": null,
      "outputs": [
        {
          "output_type": "stream",
          "name": "stdout",
          "text": [
            "[[[ 1  2  3]\n",
            "  [ 4  5  6]\n",
            "  [ 7  8  9]]\n",
            "\n",
            " [[ 2  4  6]\n",
            "  [ 8 10 12]\n",
            "  [14 16 18]]]\n"
          ]
        }
      ]
    },
    {
      "cell_type": "code",
      "source": [
        "print(numpy_array.shape)\n",
        "print(numpy_array.ndim)"
      ],
      "metadata": {
        "colab": {
          "base_uri": "https://localhost:8080/"
        },
        "id": "tJO0HZlQdNhx",
        "outputId": "3ab4d3b1-b953-46b8-eb65-a2efb70e9e24"
      },
      "execution_count": null,
      "outputs": [
        {
          "output_type": "stream",
          "name": "stdout",
          "text": [
            "(2, 3, 3)\n",
            "3\n"
          ]
        }
      ]
    },
    {
      "cell_type": "markdown",
      "source": [
        "### Saving and loading"
      ],
      "metadata": {
        "id": "rIcHFJ7Rd8p5"
      }
    },
    {
      "cell_type": "code",
      "source": [
        "# Saving\n",
        "np.save(\"array.npy\",numpy_array)"
      ],
      "metadata": {
        "id": "jKZiGQ03dta6"
      },
      "execution_count": null,
      "outputs": []
    },
    {
      "cell_type": "code",
      "source": [
        "# Load\n",
        "array = np.load(\"array.npy\")\n",
        "print(array.shape)\n",
        "print(array.ndim)"
      ],
      "metadata": {
        "colab": {
          "base_uri": "https://localhost:8080/"
        },
        "id": "bM1hxZ1Xddh8",
        "outputId": "e671a445-e360-4541-f759-dd03de343e8a"
      },
      "execution_count": null,
      "outputs": [
        {
          "output_type": "stream",
          "name": "stdout",
          "text": [
            "(2, 3, 3)\n",
            "3\n"
          ]
        }
      ]
    },
    {
      "cell_type": "code",
      "source": [],
      "metadata": {
        "id": "g30AZ-DHpLMV"
      },
      "execution_count": null,
      "outputs": []
    }
  ]
}
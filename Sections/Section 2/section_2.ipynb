{
 "cells": [
  {
   "cell_type": "markdown",
   "metadata": {
    "id": "Ci1Qn7PnRKsa"
   },
   "source": [
    "## Importing the library"
   ]
  },
  {
   "cell_type": "code",
   "execution_count": 1,
   "metadata": {
    "id": "QO_XoaX9Q9aM"
   },
   "outputs": [],
   "source": [
    "import pandas as pd "
   ]
  },
  {
   "cell_type": "markdown",
   "metadata": {
    "id": "1wybltu6RSm2"
   },
   "source": [
    "### Creating a Dataframe from dictionary"
   ]
  },
  {
   "cell_type": "code",
   "execution_count": 2,
   "metadata": {
    "id": "SNc6c8XXRRiW"
   },
   "outputs": [],
   "source": [
    "# Names\n",
    "Names = [\"Ahmed\" , \"Mostafa\" , \"Mariam\"]\n",
    "Ages =  [18 , 22 , 20]\n",
    "Gender = [\"Male\" , \"Male\" , \"Female\"]"
   ]
  },
  {
   "cell_type": "code",
   "execution_count": 3,
   "metadata": {
    "id": "-74OQ-k3TwJY"
   },
   "outputs": [],
   "source": [
    "# Create a dictionary\n",
    "data = {\n",
    "    \"names\":Names,\n",
    "    \"ages\": Ages,\n",
    "    \"gender\": Gender\n",
    "}"
   ]
  },
  {
   "cell_type": "code",
   "execution_count": 4,
   "metadata": {
    "colab": {
     "base_uri": "https://localhost:8080/"
    },
    "id": "S6UXuMOL25De",
    "outputId": "f5273c9a-3ac3-4bcd-a591-36b0deefa508"
   },
   "outputs": [
    {
     "name": "stdout",
     "output_type": "stream",
     "text": [
      "     names  ages  gender\n",
      "0    Ahmed    18    Male\n",
      "1  Mostafa    22    Male\n",
      "2   Mariam    20  Female\n"
     ]
    }
   ],
   "source": [
    "# Create a dataframe\n",
    "df = pd.DataFrame(data)\n",
    "print(df)"
   ]
  },
  {
   "cell_type": "code",
   "execution_count": 5,
   "metadata": {
    "colab": {
     "base_uri": "https://localhost:8080/"
    },
    "id": "3DeNrGjjZctV",
    "outputId": "b049d058-22a9-4aa5-91f6-c471639d465b"
   },
   "outputs": [
    {
     "data": {
      "text/plain": [
       "0      Ahmed\n",
       "1    Mostafa\n",
       "2     Mariam\n",
       "Name: names, dtype: object"
      ]
     },
     "execution_count": 13,
     "metadata": {},
     "output_type": "execute_result"
    }
   ],
   "source": [
    "df[\"names\"]"
   ]
  },
  {
   "cell_type": "markdown",
   "metadata": {
    "id": "tT6j_mUg3rdN"
   },
   "source": [
    "### Creating a DataFrame from nDimension list"
   ]
  },
  {
   "cell_type": "code",
   "execution_count": 6,
   "metadata": {
    "id": "uHrdXwa53kzk"
   },
   "outputs": [],
   "source": [
    "data = [\n",
    "    # [\"Names\" , \"Ages\" , \"City\"],\n",
    "    [\"Ahmed\" , 18 , \"Alexandria\"],\n",
    "    [\"Mostafa\" , 22 , \"Cairo\"],\n",
    "    [\"Mariam\" , 20 , \"Alexandria\"] \n",
    "]"
   ]
  },
  {
   "cell_type": "code",
   "execution_count": 8,
   "metadata": {
    "colab": {
     "base_uri": "https://localhost:8080/"
    },
    "id": "gUix2Iz83eGQ",
    "outputId": "2af180fd-f57e-49ec-8fcf-3e7040a63950"
   },
   "outputs": [
    {
     "name": "stdout",
     "output_type": "stream",
     "text": [
      "         0   1           2\n",
      "0    Ahmed  18  Alexandria\n",
      "1  Mostafa  22       Cairo\n",
      "2   Mariam  20  Alexandria\n",
      "\n",
      "     Names  Age        City\n",
      "0    Ahmed   18  Alexandria\n",
      "1  Mostafa   22       Cairo\n",
      "2   Mariam   20  Alexandria\n"
     ]
    }
   ],
   "source": [
    "df = pd.DataFrame(data)\n",
    "print(df)\n",
    "df.columns = [\"Names\" , \"Age\" , \"City\"]\n",
    "print()\n",
    "print(df)"
   ]
  },
  {
   "cell_type": "code",
   "execution_count": null,
   "metadata": {
    "colab": {
     "base_uri": "https://localhost:8080/"
    },
    "id": "WBkvDkmx4KZI",
    "outputId": "e7d91277-c30f-460c-896d-e026e895ab12"
   },
   "outputs": [
    {
     "name": "stdout",
     "output_type": "stream",
     "text": [
      "     Names  Age        City\n",
      "0    Ahmed   18  Alexandria\n",
      "1  Mostafa   22       Cairo\n",
      "2   Mariam   20  Alexandria\n"
     ]
    }
   ],
   "source": [
    "# Add coulmns in the initialization\n",
    "df = pd.DataFrame(data, columns = [\"Names\" , \"Age\" , \"City\"])\n",
    "print(df)"
   ]
  },
  {
   "cell_type": "code",
   "execution_count": null,
   "metadata": {
    "colab": {
     "base_uri": "https://localhost:8080/"
    },
    "id": "AqsqjzTm3aVR",
    "outputId": "8560362d-c56b-4d05-8da5-d59db8da8aa5"
   },
   "outputs": [
    {
     "name": "stdout",
     "output_type": "stream",
     "text": [
      "0      Ahmed\n",
      "1    Mostafa\n",
      "2     Mariam\n",
      "Name: Names, dtype: object\n",
      "\n",
      "0    18\n",
      "1    22\n",
      "2    20\n",
      "Name: Age, dtype: int64\n",
      "\n",
      "0    Alexandria\n",
      "1         Cairo\n",
      "2    Alexandria\n",
      "Name: City, dtype: object\n"
     ]
    }
   ],
   "source": [
    "# Extract Columns\n",
    "print(df[\"Names\"])\n",
    "print()\n",
    "print(df[\"Age\"])\n",
    "print()\n",
    "print(df[\"City\"])"
   ]
  },
  {
   "cell_type": "code",
   "execution_count": null,
   "metadata": {
    "colab": {
     "base_uri": "https://localhost:8080/"
    },
    "id": "brkjbAt55OaQ",
    "outputId": "c1a79cac-8f25-4705-bc25-2cc8e251a990"
   },
   "outputs": [
    {
     "name": "stdout",
     "output_type": "stream",
     "text": [
      "Names         Ahmed\n",
      "Age              18\n",
      "City     Alexandria\n",
      "Name: 0, dtype: object\n"
     ]
    }
   ],
   "source": [
    "# Extract Full Row\n",
    "print(df.loc[0])"
   ]
  },
  {
   "cell_type": "code",
   "execution_count": null,
   "metadata": {
    "colab": {
     "base_uri": "https://localhost:8080/"
    },
    "id": "nxUUkLgj5gT6",
    "outputId": "d34459d9-ea42-4327-b8e2-00e782c2fa47"
   },
   "outputs": [
    {
     "name": "stdout",
     "output_type": "stream",
     "text": [
      "20\n"
     ]
    }
   ],
   "source": [
    "# Extract Specified Data\n",
    "print(df.loc[2][\"Age\"])"
   ]
  },
  {
   "cell_type": "markdown",
   "metadata": {
    "id": "z3bHyEj6ReLj"
   },
   "source": [
    "### DataFrame Operations"
   ]
  },
  {
   "cell_type": "code",
   "execution_count": null,
   "metadata": {
    "colab": {
     "base_uri": "https://localhost:8080/"
    },
    "id": "8YeyYcgf7YJy",
    "outputId": "cdc40043-dffe-422a-8d31-a8ffed3ecb89"
   },
   "outputs": [
    {
     "name": "stdout",
     "output_type": "stream",
     "text": [
      "22\n",
      "18\n",
      "20.0\n",
      "60\n"
     ]
    }
   ],
   "source": [
    "# Mean , Sum , Max , Min \n",
    "max = df[\"Age\"].max()\n",
    "print(max)\n",
    "\n",
    "min = df[\"Age\"].min()\n",
    "print(min)\n",
    "\n",
    "mean = df[\"Age\"].mean()\n",
    "print(mean)\n",
    "\n",
    "sum = df[\"Age\"].sum()\n",
    "print(sum)"
   ]
  },
  {
   "cell_type": "code",
   "execution_count": null,
   "metadata": {
    "colab": {
     "base_uri": "https://localhost:8080/"
    },
    "id": "_pd8ZwYBbPpa",
    "outputId": "d6e30dae-6450-41aa-eb9f-e88bd1bac7c0"
   },
   "outputs": [
    {
     "data": {
      "text/plain": [
       "0    Alexandria\n",
       "1         Cairo\n",
       "2    Alexandria\n",
       "Name: City, dtype: object"
      ]
     },
     "execution_count": 21,
     "metadata": {},
     "output_type": "execute_result"
    }
   ],
   "source": [
    "df[\"City\"]"
   ]
  },
  {
   "cell_type": "code",
   "execution_count": null,
   "metadata": {
    "colab": {
     "base_uri": "https://localhost:8080/"
    },
    "id": "7Tu1qAhTiNzO",
    "outputId": "993d4d6f-a05c-4460-d2e3-c6c15c826bba"
   },
   "outputs": [
    {
     "name": "stdout",
     "output_type": "stream",
     "text": [
      "['Alexandria' 'Cairo']\n"
     ]
    }
   ],
   "source": [
    "# Unique Values \n",
    "unique = df[\"City\"].unique()\n",
    "print(unique)"
   ]
  },
  {
   "cell_type": "code",
   "execution_count": null,
   "metadata": {
    "colab": {
     "base_uri": "https://localhost:8080/"
    },
    "id": "DZTgWJLwjO4F",
    "outputId": "d5ad4029-914b-404e-d0e5-620757d49660"
   },
   "outputs": [
    {
     "name": "stdout",
     "output_type": "stream",
     "text": [
      "Alexandria    2\n",
      "Cairo         1\n",
      "Name: City, dtype: int64\n"
     ]
    }
   ],
   "source": [
    "# Counts values\n",
    "unique = df[\"City\"].value_counts()\n",
    "print(unique)"
   ]
  },
  {
   "cell_type": "code",
   "execution_count": null,
   "metadata": {
    "colab": {
     "base_uri": "https://localhost:8080/",
     "height": 143
    },
    "id": "134KkXZMcTqx",
    "outputId": "af7c5f7b-5ac2-414c-d5c4-602ff152695f"
   },
   "outputs": [
    {
     "data": {
      "text/html": [
       "<div>\n",
       "<style scoped>\n",
       "    .dataframe tbody tr th:only-of-type {\n",
       "        vertical-align: middle;\n",
       "    }\n",
       "\n",
       "    .dataframe tbody tr th {\n",
       "        vertical-align: top;\n",
       "    }\n",
       "\n",
       "    .dataframe thead th {\n",
       "        text-align: right;\n",
       "    }\n",
       "</style>\n",
       "<table border=\"1\" class=\"dataframe\">\n",
       "  <thead>\n",
       "    <tr style=\"text-align: right;\">\n",
       "      <th></th>\n",
       "      <th>Names</th>\n",
       "      <th>Age</th>\n",
       "      <th>City</th>\n",
       "    </tr>\n",
       "  </thead>\n",
       "  <tbody>\n",
       "    <tr>\n",
       "      <th>0</th>\n",
       "      <td>Ahmed</td>\n",
       "      <td>18</td>\n",
       "      <td>Alexandria</td>\n",
       "    </tr>\n",
       "    <tr>\n",
       "      <th>1</th>\n",
       "      <td>Mostafa</td>\n",
       "      <td>22</td>\n",
       "      <td>Cairo</td>\n",
       "    </tr>\n",
       "    <tr>\n",
       "      <th>2</th>\n",
       "      <td>Mariam</td>\n",
       "      <td>20</td>\n",
       "      <td>Alexandria</td>\n",
       "    </tr>\n",
       "  </tbody>\n",
       "</table>\n",
       "</div>"
      ],
      "text/plain": [
       "     Names  Age        City\n",
       "0    Ahmed   18  Alexandria\n",
       "1  Mostafa   22       Cairo\n",
       "2   Mariam   20  Alexandria"
      ]
     },
     "execution_count": 24,
     "metadata": {},
     "output_type": "execute_result"
    }
   ],
   "source": [
    "df"
   ]
  },
  {
   "cell_type": "code",
   "execution_count": null,
   "metadata": {
    "colab": {
     "base_uri": "https://localhost:8080/"
    },
    "id": "gaHQ-54bRc1S",
    "outputId": "4e8ea0ca-e3f3-4f93-9229-63741ae975ef"
   },
   "outputs": [
    {
     "name": "stdout",
     "output_type": "stream",
     "text": [
      "     Names  Age        City\n",
      "0    Ahmed   18       Cairo\n",
      "1  Mostafa   22        None\n",
      "2   Mariam   20  Alexandria\n"
     ]
    }
   ],
   "source": [
    "# Remove Empty Cells\n",
    "data = [\n",
    "    [\"Ahmed\" , 18 ,\"Cairo\"],\n",
    "    [\"Mostafa\" , 22 , None],\n",
    "    [\"Mariam\" , 20 , \"Alexandria\"] \n",
    "]\n",
    "df = pd.DataFrame(data , columns = [\"Names\", \"Age\" , \"City\" ])\n",
    "# new_df = df.dropna()\n",
    "print(df)"
   ]
  },
  {
   "cell_type": "code",
   "execution_count": null,
   "metadata": {
    "colab": {
     "base_uri": "https://localhost:8080/"
    },
    "id": "nGDcMZ9pTtJE",
    "outputId": "9383e5a3-ab8d-4048-f528-0272a036cbf3"
   },
   "outputs": [
    {
     "name": "stdout",
     "output_type": "stream",
     "text": [
      "     Names  Age        City\n",
      "0    Ahmed   18       Cairo\n",
      "1  Mostafa   22      Unkown\n",
      "2   Mariam   20  Alexandria\n"
     ]
    }
   ],
   "source": [
    "# Fill Empty Cells\n",
    "new_df = df.fillna(\"Unkown\")\n",
    "print(new_df)"
   ]
  },
  {
   "cell_type": "markdown",
   "metadata": {
    "id": "536YNGBkp1zi"
   },
   "source": [
    "### Addition and Removal of Rows / Columns"
   ]
  },
  {
   "cell_type": "code",
   "execution_count": null,
   "metadata": {
    "colab": {
     "base_uri": "https://localhost:8080/"
    },
    "id": "CxrC5QZf8QV2",
    "outputId": "e3b367fe-dd23-4d29-c14d-ce72ed4857c1"
   },
   "outputs": [
    {
     "name": "stdout",
     "output_type": "stream",
     "text": [
      "     Names  Age        City\n",
      "0    Ahmed   18       Cairo\n",
      "1  Mostafa   22        None\n",
      "2   Mariam   20  Alexandria\n",
      "4  Mohamed   26       Tanta\n"
     ]
    }
   ],
   "source": [
    "# Add row by using loc function\n",
    "df.loc[4] = [\"Mohamed\",26,\"Tanta\"]\n",
    "print(df)"
   ]
  },
  {
   "cell_type": "code",
   "execution_count": null,
   "metadata": {
    "colab": {
     "base_uri": "https://localhost:8080/"
    },
    "id": "Ct5L26_PkANP",
    "outputId": "57f1093e-1810-4681-f524-c9cd478d1177"
   },
   "outputs": [
    {
     "name": "stdout",
     "output_type": "stream",
     "text": [
      "     Names   Age        City     0     1      2\n",
      "0    Ahmed  18.0       Cairo   NaN   NaN    NaN\n",
      "1  Mostafa  22.0        None   NaN   NaN    NaN\n",
      "2   Mariam  20.0  Alexandria   NaN   NaN    NaN\n",
      "4  Mohamed  26.0       Tanta   NaN   NaN    NaN\n",
      "5      NaN   NaN         NaN  Sara  24.0  Tanta\n"
     ]
    },
    {
     "name": "stderr",
     "output_type": "stream",
     "text": [
      "C:\\Users\\aashr\\AppData\\Local\\Temp\\ipykernel_10744\\1888617825.py:4: FutureWarning: The frame.append method is deprecated and will be removed from pandas in a future version. Use pandas.concat instead.\n",
      "  df = df.append(sample)\n"
     ]
    }
   ],
   "source": [
    "# Add row by using Append function\n",
    "sample = pd.DataFrame([[\"Sara\" , 24 , \"Tanta\"]] , columns = [\"Names\" , \"Age\" , \"City\" , index= [5])\n",
    "# print(sample)\n",
    "df = df.append(sample)\n",
    "print(df)"
   ]
  },
  {
   "cell_type": "code",
   "execution_count": 183,
   "metadata": {
    "colab": {
     "base_uri": "https://localhost:8080/"
    },
    "id": "IgRQCZMkeEPQ",
    "outputId": "a43fd948-e89e-40cb-b3bc-63ef5f3776ff"
   },
   "outputs": [
    {
     "name": "stdout",
     "output_type": "stream",
     "text": [
      "     Names  Age        City\n",
      "0    Ahmed   18       Cairo\n",
      "2   Mariam   20  Alexandria\n",
      "4  Mohamed   26       Tanta\n",
      "5     Sara   24       Tanta\n"
     ]
    }
   ],
   "source": [
    "df = df.dropna()\n",
    "print(df)"
   ]
  },
  {
   "cell_type": "code",
   "execution_count": 184,
   "metadata": {
    "colab": {
     "base_uri": "https://localhost:8080/"
    },
    "id": "O_yjKgPSoaBc",
    "outputId": "722b03fb-1a3d-447b-e5b3-50cb645c95fc"
   },
   "outputs": [
    {
     "name": "stdout",
     "output_type": "stream",
     "text": [
      "     Names  Age        City\n",
      "0    Ahmed   18       Cairo\n",
      "1   Mariam   20  Alexandria\n",
      "2  Mohamed   26       Tanta\n",
      "3     Sara   24       Tanta\n"
     ]
    }
   ],
   "source": [
    "# Reset Index\n",
    "# new_df = df.reset_index()\n",
    "# print(new_df)\n",
    "df = df.reset_index(drop=True)\n",
    "print(df)"
   ]
  },
  {
   "cell_type": "code",
   "execution_count": 185,
   "metadata": {
    "colab": {
     "base_uri": "https://localhost:8080/"
    },
    "id": "F6d6-qIqk1j_",
    "outputId": "fddd9476-7f38-4c40-c14e-ff4aef0f6845"
   },
   "outputs": [
    {
     "name": "stdout",
     "output_type": "stream",
     "text": [
      "     Names  Age        City\n",
      "1   Mariam   20  Alexandria\n",
      "2  Mohamed   26       Tanta\n",
      "3     Sara   24       Tanta\n"
     ]
    }
   ],
   "source": [
    "# Delete Row by index\n",
    "df = df.drop(0)\n",
    "print(df)"
   ]
  },
  {
   "cell_type": "code",
   "execution_count": 186,
   "metadata": {
    "colab": {
     "base_uri": "https://localhost:8080/"
    },
    "id": "1sWpDjtDeuMM",
    "outputId": "f2333c53-b298-46a1-822c-60a5e24778dd"
   },
   "outputs": [
    {
     "name": "stdout",
     "output_type": "stream",
     "text": [
      "     Names  Age        City\n",
      "0   Mariam   20  Alexandria\n",
      "1  Mohamed   26       Tanta\n",
      "2     Sara   24       Tanta\n"
     ]
    }
   ],
   "source": [
    "df = df.reset_index(drop=True)\n",
    "print(df)"
   ]
  },
  {
   "cell_type": "code",
   "execution_count": 187,
   "metadata": {
    "colab": {
     "base_uri": "https://localhost:8080/"
    },
    "id": "DBXysXhQmVUT",
    "outputId": "c8800089-70e4-47d9-fe7b-90a229d4a0a4"
   },
   "outputs": [
    {
     "name": "stdout",
     "output_type": "stream",
     "text": [
      "     Names  Age        City  Color\n",
      "0   Mariam   20  Alexandria    Red\n",
      "1  Mohamed   26       Tanta  Green\n",
      "2     Sara   24       Tanta   Blue\n"
     ]
    }
   ],
   "source": [
    "# Add column\n",
    "df[\"Color\"] = [\"Red\", \"Green\", \"Blue\"]\n",
    "print(df)"
   ]
  },
  {
   "cell_type": "code",
   "execution_count": 188,
   "metadata": {
    "colab": {
     "base_uri": "https://localhost:8080/"
    },
    "id": "-xtVJb71nao3",
    "outputId": "f6981249-cb72-4d1b-fc67-e68ebc53d0c7"
   },
   "outputs": [
    {
     "name": "stdout",
     "output_type": "stream",
     "text": [
      "     Names  Age        City\n",
      "0   Mariam   20  Alexandria\n",
      "1  Mohamed   26       Tanta\n",
      "2     Sara   24       Tanta\n"
     ]
    }
   ],
   "source": [
    "# Delete Column\n",
    "df = df.drop(columns=[\"Color\"])\n",
    "print(df)"
   ]
  },
  {
   "cell_type": "markdown",
   "metadata": {
    "id": "yZFFtQXZpFJv"
   },
   "source": [
    "### Load / Save Dataframe"
   ]
  },
  {
   "cell_type": "code",
   "execution_count": 197,
   "metadata": {
    "id": "Atma6f-bnjRk"
   },
   "outputs": [],
   "source": [
    "# To save Dataframe\n",
    "df.to_csv(\"dataframe.csv\",index = False)"
   ]
  },
  {
   "cell_type": "code",
   "execution_count": 198,
   "metadata": {
    "colab": {
     "base_uri": "https://localhost:8080/"
    },
    "id": "wD1E3dUUpZtX",
    "outputId": "057dd271-b0f9-4a61-8220-101f91ca085f"
   },
   "outputs": [
    {
     "name": "stdout",
     "output_type": "stream",
     "text": [
      "     Names  Age        City\n",
      "0   Mariam   20  Alexandria\n",
      "1  Mohamed   26       Tanta\n",
      "2     Sara   24       Tanta\n"
     ]
    }
   ],
   "source": [
    "# Read csv\n",
    "df = pd.read_csv(\"dataframe.csv\")\n",
    "print(df)"
   ]
  },
  {
   "cell_type": "code",
   "execution_count": 196,
   "metadata": {
    "colab": {
     "base_uri": "https://localhost:8080/",
     "height": 143
    },
    "id": "A3HglqY8f2vX",
    "outputId": "7e8a0c07-410e-4ecc-b055-6aef076a79d2"
   },
   "outputs": [
    {
     "data": {
      "text/html": [
       "\n",
       "  <div id=\"df-516dd7d0-ff91-4841-b97b-1cdf219473ad\">\n",
       "    <div class=\"colab-df-container\">\n",
       "      <div>\n",
       "<style scoped>\n",
       "    .dataframe tbody tr th:only-of-type {\n",
       "        vertical-align: middle;\n",
       "    }\n",
       "\n",
       "    .dataframe tbody tr th {\n",
       "        vertical-align: top;\n",
       "    }\n",
       "\n",
       "    .dataframe thead th {\n",
       "        text-align: right;\n",
       "    }\n",
       "</style>\n",
       "<table border=\"1\" class=\"dataframe\">\n",
       "  <thead>\n",
       "    <tr style=\"text-align: right;\">\n",
       "      <th></th>\n",
       "      <th>Names</th>\n",
       "      <th>Age</th>\n",
       "      <th>City</th>\n",
       "    </tr>\n",
       "  </thead>\n",
       "  <tbody>\n",
       "    <tr>\n",
       "      <th>0</th>\n",
       "      <td>Mariam</td>\n",
       "      <td>20</td>\n",
       "      <td>Alexandria</td>\n",
       "    </tr>\n",
       "    <tr>\n",
       "      <th>1</th>\n",
       "      <td>Mohamed</td>\n",
       "      <td>26</td>\n",
       "      <td>Tanta</td>\n",
       "    </tr>\n",
       "    <tr>\n",
       "      <th>2</th>\n",
       "      <td>Sara</td>\n",
       "      <td>24</td>\n",
       "      <td>Tanta</td>\n",
       "    </tr>\n",
       "  </tbody>\n",
       "</table>\n",
       "</div>\n",
       "      <button class=\"colab-df-convert\" onclick=\"convertToInteractive('df-516dd7d0-ff91-4841-b97b-1cdf219473ad')\"\n",
       "              title=\"Convert this dataframe to an interactive table.\"\n",
       "              style=\"display:none;\">\n",
       "        \n",
       "  <svg xmlns=\"http://www.w3.org/2000/svg\" height=\"24px\"viewBox=\"0 0 24 24\"\n",
       "       width=\"24px\">\n",
       "    <path d=\"M0 0h24v24H0V0z\" fill=\"none\"/>\n",
       "    <path d=\"M18.56 5.44l.94 2.06.94-2.06 2.06-.94-2.06-.94-.94-2.06-.94 2.06-2.06.94zm-11 1L8.5 8.5l.94-2.06 2.06-.94-2.06-.94L8.5 2.5l-.94 2.06-2.06.94zm10 10l.94 2.06.94-2.06 2.06-.94-2.06-.94-.94-2.06-.94 2.06-2.06.94z\"/><path d=\"M17.41 7.96l-1.37-1.37c-.4-.4-.92-.59-1.43-.59-.52 0-1.04.2-1.43.59L10.3 9.45l-7.72 7.72c-.78.78-.78 2.05 0 2.83L4 21.41c.39.39.9.59 1.41.59.51 0 1.02-.2 1.41-.59l7.78-7.78 2.81-2.81c.8-.78.8-2.07 0-2.86zM5.41 20L4 18.59l7.72-7.72 1.47 1.35L5.41 20z\"/>\n",
       "  </svg>\n",
       "      </button>\n",
       "      \n",
       "  <style>\n",
       "    .colab-df-container {\n",
       "      display:flex;\n",
       "      flex-wrap:wrap;\n",
       "      gap: 12px;\n",
       "    }\n",
       "\n",
       "    .colab-df-convert {\n",
       "      background-color: #E8F0FE;\n",
       "      border: none;\n",
       "      border-radius: 50%;\n",
       "      cursor: pointer;\n",
       "      display: none;\n",
       "      fill: #1967D2;\n",
       "      height: 32px;\n",
       "      padding: 0 0 0 0;\n",
       "      width: 32px;\n",
       "    }\n",
       "\n",
       "    .colab-df-convert:hover {\n",
       "      background-color: #E2EBFA;\n",
       "      box-shadow: 0px 1px 2px rgba(60, 64, 67, 0.3), 0px 1px 3px 1px rgba(60, 64, 67, 0.15);\n",
       "      fill: #174EA6;\n",
       "    }\n",
       "\n",
       "    [theme=dark] .colab-df-convert {\n",
       "      background-color: #3B4455;\n",
       "      fill: #D2E3FC;\n",
       "    }\n",
       "\n",
       "    [theme=dark] .colab-df-convert:hover {\n",
       "      background-color: #434B5C;\n",
       "      box-shadow: 0px 1px 3px 1px rgba(0, 0, 0, 0.15);\n",
       "      filter: drop-shadow(0px 1px 2px rgba(0, 0, 0, 0.3));\n",
       "      fill: #FFFFFF;\n",
       "    }\n",
       "  </style>\n",
       "\n",
       "      <script>\n",
       "        const buttonEl =\n",
       "          document.querySelector('#df-516dd7d0-ff91-4841-b97b-1cdf219473ad button.colab-df-convert');\n",
       "        buttonEl.style.display =\n",
       "          google.colab.kernel.accessAllowed ? 'block' : 'none';\n",
       "\n",
       "        async function convertToInteractive(key) {\n",
       "          const element = document.querySelector('#df-516dd7d0-ff91-4841-b97b-1cdf219473ad');\n",
       "          const dataTable =\n",
       "            await google.colab.kernel.invokeFunction('convertToInteractive',\n",
       "                                                     [key], {});\n",
       "          if (!dataTable) return;\n",
       "\n",
       "          const docLinkHtml = 'Like what you see? Visit the ' +\n",
       "            '<a target=\"_blank\" href=https://colab.research.google.com/notebooks/data_table.ipynb>data table notebook</a>'\n",
       "            + ' to learn more about interactive tables.';\n",
       "          element.innerHTML = '';\n",
       "          dataTable['output_type'] = 'display_data';\n",
       "          await google.colab.output.renderOutput(dataTable, element);\n",
       "          const docLink = document.createElement('div');\n",
       "          docLink.innerHTML = docLinkHtml;\n",
       "          element.appendChild(docLink);\n",
       "        }\n",
       "      </script>\n",
       "    </div>\n",
       "  </div>\n",
       "  "
      ],
      "text/plain": [
       "     Names  Age        City\n",
       "0   Mariam   20  Alexandria\n",
       "1  Mohamed   26       Tanta\n",
       "2     Sara   24       Tanta"
      ]
     },
     "execution_count": 196,
     "metadata": {},
     "output_type": "execute_result"
    }
   ],
   "source": [
    "df = df.drop(columns=[\"Unnamed: 0\"])\n",
    "df"
   ]
  },
  {
   "cell_type": "markdown",
   "metadata": {
    "id": "AjSQq_fc4QlG"
   },
   "source": [
    "### Practice Problems"
   ]
  },
  {
   "cell_type": "markdown",
   "metadata": {
    "id": "kOTD9k5q4XXD"
   },
   "source": [
    "You have a dictionary of sales data for different products in different countries. The dictionary keys are 'Product', 'Country', 'Units Sold', and 'Sales Amount'.\n",
    "- Create a pandas data frame from this dictionary and display the maximum sales.\n",
    "- Remove any rows with empty cells\n",
    "- Get number of different Product Category "
   ]
  },
  {
   "cell_type": "code",
   "execution_count": 7,
   "metadata": {
    "id": "x5WBOMVv4UTf"
   },
   "outputs": [],
   "source": [
    "import pandas as pd\n",
    "\n",
    "dict_values = {\n",
    "\"product\": ['Product A', 'Product B', 'Product C', 'Product A', 'Product B'],\n",
    "\"country\": ['USA', 'France', 'England', 'Ireland', 'Germany'],\n",
    "\"units_sold\": [100, None, 150, 75, 300],\n",
    "\"sales_amount\": [1000, 2500, 2000, 1000, 4000]\n",
    "}"
   ]
  },
  {
   "cell_type": "code",
   "execution_count": 199,
   "metadata": {
    "colab": {
     "base_uri": "https://localhost:8080/"
    },
    "id": "7rPj6qP744En",
    "outputId": "c135d8aa-e13e-4bc6-82c9-b5fd63e3d602"
   },
   "outputs": [
    {
     "name": "stdout",
     "output_type": "stream",
     "text": [
      "     product  country  units_sold  sales_amount\n",
      "0  Product A      USA       100.0          1000\n",
      "1  Product B   France         NaN          2500\n",
      "2  Product C  England       150.0          2000\n",
      "3  Product A  Ireland        75.0          1000\n",
      "4  Product B  Germany       300.0          4000\n"
     ]
    }
   ],
   "source": [
    "df = pd.DataFrame(dict_values)\n",
    "print(df)"
   ]
  },
  {
   "cell_type": "code",
   "execution_count": 201,
   "metadata": {
    "colab": {
     "base_uri": "https://localhost:8080/"
    },
    "id": "wfdMr-HggiNu",
    "outputId": "8baba217-3098-43d7-d7e2-c1ea8c3d3af2"
   },
   "outputs": [
    {
     "data": {
      "text/plain": [
       "4000"
      ]
     },
     "execution_count": 201,
     "metadata": {},
     "output_type": "execute_result"
    }
   ],
   "source": [
    "df[\"sales_amount\"].max()"
   ]
  },
  {
   "cell_type": "code",
   "execution_count": 202,
   "metadata": {
    "colab": {
     "base_uri": "https://localhost:8080/"
    },
    "id": "b8A72ONu6_YV",
    "outputId": "f3736ecd-15d6-496a-b4b4-f7d7773973db"
   },
   "outputs": [
    {
     "name": "stdout",
     "output_type": "stream",
     "text": [
      "     product  country  units_sold  sales_amount\n",
      "0  Product A      USA       100.0          1000\n",
      "2  Product C  England       150.0          2000\n",
      "3  Product A  Ireland        75.0          1000\n",
      "4  Product B  Germany       300.0          4000\n"
     ]
    }
   ],
   "source": [
    "df = df.dropna()\n",
    "print(df)"
   ]
  },
  {
   "cell_type": "code",
   "execution_count": 206,
   "metadata": {
    "colab": {
     "base_uri": "https://localhost:8080/"
    },
    "id": "OnkNYgtz7MsI",
    "outputId": "792139b3-ac2b-4ce3-c2fa-548cf778c9cc"
   },
   "outputs": [
    {
     "name": "stdout",
     "output_type": "stream",
     "text": [
      "3\n"
     ]
    }
   ],
   "source": [
    "category_numbers = df[\"product\"].value_counts()\n",
    "print(len(category_numbers))"
   ]
  },
  {
   "cell_type": "markdown",
   "metadata": {
    "id": "Q8CwAy8_7m4N"
   },
   "source": [
    "You have a 2D NumPy array that contains test scores for students in different subjects. The first row of the array contains the subject names and the first column contains the student names.\n",
    "- Create a pandas data frame from this array and replace any empty cells with the mean score for that subject. \n",
    "- Display the maximum, minimumn, and the mean score for each subject.\n"
   ]
  },
  {
   "cell_type": "code",
   "execution_count": 244,
   "metadata": {
    "id": "sjBGCoC17XFJ"
   },
   "outputs": [],
   "source": [
    "import numpy as np\n",
    "\n",
    "topics = np.array([\n",
    "    [\"Names\" , \"Topic A\" , \"Topic B\", \"Topic C\" , \"Topic D\"]\n",
    "]) \n",
    "\n",
    "nn = [\n",
    "    [\"Student 1\"] ,[\"Student 2\"] , [\"Student 3\"] , [\"Student 4\"] , ['Student 5'] , [\"Student 6\"] , [\"Student 7\"] , [\"Student 8\"] , [\"Student 9\"] , [\"Student 10\"]]\n",
    "nn = np.array(nn)\n",
    "# print(nn)\n",
    "values = np.random.randint(1,100,size=(10,4))\n",
    "\n",
    "values_nn = np.concatenate((nn , values) , axis = -1)\n",
    "student_grades = np.concatenate((topics,values_nn) , axis = 0)\n",
    "\n",
    "\n",
    "\n",
    "student_grades[1 , 4] = np.nan\n",
    "student_grades[1 , 1] = np.nan\n",
    "student_grades[4 , 3] = np.nan\n",
    "student_grades[1 , 2] = np.nan\n",
    "student_grades[8 , 2] = np.nan\n",
    "student_grades[7 , 1] = np.nan"
   ]
  },
  {
   "cell_type": "code",
   "execution_count": 245,
   "metadata": {
    "colab": {
     "base_uri": "https://localhost:8080/"
    },
    "id": "paoIk0yxh7Iw",
    "outputId": "87899336-7075-4543-981f-70e53c5ca565"
   },
   "outputs": [
    {
     "name": "stdout",
     "output_type": "stream",
     "text": [
      "[['Names' 'Topic A' 'Topic B' 'Topic C' 'Topic D']\n",
      " ['Student 1' 'nan' 'nan' '45' 'nan']\n",
      " ['Student 2' '78' '11' '20' '40']\n",
      " ['Student 3' '92' '97' '20' '98']\n",
      " ['Student 4' '79' '71' 'nan' '87']\n",
      " ['Student 5' '49' '87' '91' '30']\n",
      " ['Student 6' '56' '49' '63' '92']\n",
      " ['Student 7' 'nan' '35' '19' '94']\n",
      " ['Student 8' '74' 'nan' '84' '1']\n",
      " ['Student 9' '71' '28' '85' '9']\n",
      " ['Student 10' '38' '4' '16' '38']]\n"
     ]
    }
   ],
   "source": [
    "print(student_grades)\n",
    "# print(student_grades)\n"
   ]
  },
  {
   "cell_type": "code",
   "execution_count": 246,
   "metadata": {
    "colab": {
     "base_uri": "https://localhost:8080/"
    },
    "id": "bixEVczjjG5s",
    "outputId": "7e951592-94c1-4901-9c1c-f793dc1b185f"
   },
   "outputs": [
    {
     "data": {
      "text/plain": [
       "array([['Student 1', 'nan', 'nan', '45', 'nan'],\n",
       "       ['Student 2', '78', '11', '20', '40'],\n",
       "       ['Student 3', '92', '97', '20', '98'],\n",
       "       ['Student 4', '79', '71', 'nan', '87'],\n",
       "       ['Student 5', '49', '87', '91', '30'],\n",
       "       ['Student 6', '56', '49', '63', '92'],\n",
       "       ['Student 7', 'nan', '35', '19', '94'],\n",
       "       ['Student 8', '74', 'nan', '84', '1'],\n",
       "       ['Student 9', '71', '28', '85', '9'],\n",
       "       ['Student 10', '38', '4', '16', '38']], dtype='<U21')"
      ]
     },
     "execution_count": 246,
     "metadata": {},
     "output_type": "execute_result"
    }
   ],
   "source": [
    "student_grades[1:]"
   ]
  },
  {
   "cell_type": "code",
   "execution_count": 247,
   "metadata": {
    "id": "XGFCDGJK8_tg"
   },
   "outputs": [],
   "source": [
    "df = pd.DataFrame(student_grades[1:] , columns=student_grades[0])"
   ]
  },
  {
   "cell_type": "code",
   "execution_count": 248,
   "metadata": {
    "colab": {
     "base_uri": "https://localhost:8080/",
     "height": 363
    },
    "id": "Jk-zE2frliqD",
    "outputId": "b17fc36c-1c79-4162-9910-f52f6991534d"
   },
   "outputs": [
    {
     "data": {
      "text/html": [
       "\n",
       "  <div id=\"df-ebf40c91-7ffc-4e44-beb8-015ccdf1b7a5\">\n",
       "    <div class=\"colab-df-container\">\n",
       "      <div>\n",
       "<style scoped>\n",
       "    .dataframe tbody tr th:only-of-type {\n",
       "        vertical-align: middle;\n",
       "    }\n",
       "\n",
       "    .dataframe tbody tr th {\n",
       "        vertical-align: top;\n",
       "    }\n",
       "\n",
       "    .dataframe thead th {\n",
       "        text-align: right;\n",
       "    }\n",
       "</style>\n",
       "<table border=\"1\" class=\"dataframe\">\n",
       "  <thead>\n",
       "    <tr style=\"text-align: right;\">\n",
       "      <th></th>\n",
       "      <th>Names</th>\n",
       "      <th>Topic A</th>\n",
       "      <th>Topic B</th>\n",
       "      <th>Topic C</th>\n",
       "      <th>Topic D</th>\n",
       "    </tr>\n",
       "  </thead>\n",
       "  <tbody>\n",
       "    <tr>\n",
       "      <th>0</th>\n",
       "      <td>Student 1</td>\n",
       "      <td>nan</td>\n",
       "      <td>nan</td>\n",
       "      <td>45</td>\n",
       "      <td>nan</td>\n",
       "    </tr>\n",
       "    <tr>\n",
       "      <th>1</th>\n",
       "      <td>Student 2</td>\n",
       "      <td>78</td>\n",
       "      <td>11</td>\n",
       "      <td>20</td>\n",
       "      <td>40</td>\n",
       "    </tr>\n",
       "    <tr>\n",
       "      <th>2</th>\n",
       "      <td>Student 3</td>\n",
       "      <td>92</td>\n",
       "      <td>97</td>\n",
       "      <td>20</td>\n",
       "      <td>98</td>\n",
       "    </tr>\n",
       "    <tr>\n",
       "      <th>3</th>\n",
       "      <td>Student 4</td>\n",
       "      <td>79</td>\n",
       "      <td>71</td>\n",
       "      <td>nan</td>\n",
       "      <td>87</td>\n",
       "    </tr>\n",
       "    <tr>\n",
       "      <th>4</th>\n",
       "      <td>Student 5</td>\n",
       "      <td>49</td>\n",
       "      <td>87</td>\n",
       "      <td>91</td>\n",
       "      <td>30</td>\n",
       "    </tr>\n",
       "    <tr>\n",
       "      <th>5</th>\n",
       "      <td>Student 6</td>\n",
       "      <td>56</td>\n",
       "      <td>49</td>\n",
       "      <td>63</td>\n",
       "      <td>92</td>\n",
       "    </tr>\n",
       "    <tr>\n",
       "      <th>6</th>\n",
       "      <td>Student 7</td>\n",
       "      <td>nan</td>\n",
       "      <td>35</td>\n",
       "      <td>19</td>\n",
       "      <td>94</td>\n",
       "    </tr>\n",
       "    <tr>\n",
       "      <th>7</th>\n",
       "      <td>Student 8</td>\n",
       "      <td>74</td>\n",
       "      <td>nan</td>\n",
       "      <td>84</td>\n",
       "      <td>1</td>\n",
       "    </tr>\n",
       "    <tr>\n",
       "      <th>8</th>\n",
       "      <td>Student 9</td>\n",
       "      <td>71</td>\n",
       "      <td>28</td>\n",
       "      <td>85</td>\n",
       "      <td>9</td>\n",
       "    </tr>\n",
       "    <tr>\n",
       "      <th>9</th>\n",
       "      <td>Student 10</td>\n",
       "      <td>38</td>\n",
       "      <td>4</td>\n",
       "      <td>16</td>\n",
       "      <td>38</td>\n",
       "    </tr>\n",
       "  </tbody>\n",
       "</table>\n",
       "</div>\n",
       "      <button class=\"colab-df-convert\" onclick=\"convertToInteractive('df-ebf40c91-7ffc-4e44-beb8-015ccdf1b7a5')\"\n",
       "              title=\"Convert this dataframe to an interactive table.\"\n",
       "              style=\"display:none;\">\n",
       "        \n",
       "  <svg xmlns=\"http://www.w3.org/2000/svg\" height=\"24px\"viewBox=\"0 0 24 24\"\n",
       "       width=\"24px\">\n",
       "    <path d=\"M0 0h24v24H0V0z\" fill=\"none\"/>\n",
       "    <path d=\"M18.56 5.44l.94 2.06.94-2.06 2.06-.94-2.06-.94-.94-2.06-.94 2.06-2.06.94zm-11 1L8.5 8.5l.94-2.06 2.06-.94-2.06-.94L8.5 2.5l-.94 2.06-2.06.94zm10 10l.94 2.06.94-2.06 2.06-.94-2.06-.94-.94-2.06-.94 2.06-2.06.94z\"/><path d=\"M17.41 7.96l-1.37-1.37c-.4-.4-.92-.59-1.43-.59-.52 0-1.04.2-1.43.59L10.3 9.45l-7.72 7.72c-.78.78-.78 2.05 0 2.83L4 21.41c.39.39.9.59 1.41.59.51 0 1.02-.2 1.41-.59l7.78-7.78 2.81-2.81c.8-.78.8-2.07 0-2.86zM5.41 20L4 18.59l7.72-7.72 1.47 1.35L5.41 20z\"/>\n",
       "  </svg>\n",
       "      </button>\n",
       "      \n",
       "  <style>\n",
       "    .colab-df-container {\n",
       "      display:flex;\n",
       "      flex-wrap:wrap;\n",
       "      gap: 12px;\n",
       "    }\n",
       "\n",
       "    .colab-df-convert {\n",
       "      background-color: #E8F0FE;\n",
       "      border: none;\n",
       "      border-radius: 50%;\n",
       "      cursor: pointer;\n",
       "      display: none;\n",
       "      fill: #1967D2;\n",
       "      height: 32px;\n",
       "      padding: 0 0 0 0;\n",
       "      width: 32px;\n",
       "    }\n",
       "\n",
       "    .colab-df-convert:hover {\n",
       "      background-color: #E2EBFA;\n",
       "      box-shadow: 0px 1px 2px rgba(60, 64, 67, 0.3), 0px 1px 3px 1px rgba(60, 64, 67, 0.15);\n",
       "      fill: #174EA6;\n",
       "    }\n",
       "\n",
       "    [theme=dark] .colab-df-convert {\n",
       "      background-color: #3B4455;\n",
       "      fill: #D2E3FC;\n",
       "    }\n",
       "\n",
       "    [theme=dark] .colab-df-convert:hover {\n",
       "      background-color: #434B5C;\n",
       "      box-shadow: 0px 1px 3px 1px rgba(0, 0, 0, 0.15);\n",
       "      filter: drop-shadow(0px 1px 2px rgba(0, 0, 0, 0.3));\n",
       "      fill: #FFFFFF;\n",
       "    }\n",
       "  </style>\n",
       "\n",
       "      <script>\n",
       "        const buttonEl =\n",
       "          document.querySelector('#df-ebf40c91-7ffc-4e44-beb8-015ccdf1b7a5 button.colab-df-convert');\n",
       "        buttonEl.style.display =\n",
       "          google.colab.kernel.accessAllowed ? 'block' : 'none';\n",
       "\n",
       "        async function convertToInteractive(key) {\n",
       "          const element = document.querySelector('#df-ebf40c91-7ffc-4e44-beb8-015ccdf1b7a5');\n",
       "          const dataTable =\n",
       "            await google.colab.kernel.invokeFunction('convertToInteractive',\n",
       "                                                     [key], {});\n",
       "          if (!dataTable) return;\n",
       "\n",
       "          const docLinkHtml = 'Like what you see? Visit the ' +\n",
       "            '<a target=\"_blank\" href=https://colab.research.google.com/notebooks/data_table.ipynb>data table notebook</a>'\n",
       "            + ' to learn more about interactive tables.';\n",
       "          element.innerHTML = '';\n",
       "          dataTable['output_type'] = 'display_data';\n",
       "          await google.colab.output.renderOutput(dataTable, element);\n",
       "          const docLink = document.createElement('div');\n",
       "          docLink.innerHTML = docLinkHtml;\n",
       "          element.appendChild(docLink);\n",
       "        }\n",
       "      </script>\n",
       "    </div>\n",
       "  </div>\n",
       "  "
      ],
      "text/plain": [
       "        Names Topic A Topic B Topic C Topic D\n",
       "0   Student 1     nan     nan      45     nan\n",
       "1   Student 2      78      11      20      40\n",
       "2   Student 3      92      97      20      98\n",
       "3   Student 4      79      71     nan      87\n",
       "4   Student 5      49      87      91      30\n",
       "5   Student 6      56      49      63      92\n",
       "6   Student 7     nan      35      19      94\n",
       "7   Student 8      74     nan      84       1\n",
       "8   Student 9      71      28      85       9\n",
       "9  Student 10      38       4      16      38"
      ]
     },
     "execution_count": 248,
     "metadata": {},
     "output_type": "execute_result"
    }
   ],
   "source": [
    "df"
   ]
  },
  {
   "cell_type": "code",
   "execution_count": 261,
   "metadata": {
    "id": "cs-DgQeujohh"
   },
   "outputs": [],
   "source": [
    "df[\"Topic B\"] = df[\"Topic B\"].astype(np.float32)\n",
    "\n",
    "temp = df[\"Topic B\"].fillna(0)\n",
    "print(temp)\n",
    "mean_B = temp.mean()\n"
   ]
  },
  {
   "cell_type": "code",
   "execution_count": 263,
   "metadata": {
    "id": "dV9RwV19lp8P"
   },
   "outputs": [],
   "source": [
    "df[\"Topic B\"] = df[\"Topic B\"].fillna(mean_B) "
   ]
  },
  {
   "cell_type": "code",
   "execution_count": 108,
   "metadata": {
    "id": "_hAPKMih-1lJ"
   },
   "outputs": [],
   "source": [
    "df = df.replace(to_replace=\"None\", value=np.nan)\n",
    "\n",
    "zeros_df = df.fillna(0)\n",
    "for i in df.columns:\n",
    "  if i == \"Names\":\n",
    "    continue\n",
    "\n",
    "  zeros_df[i] = zeros_df[i].astype('int32')\n",
    "  mean = zeros_df[i].mean()\n",
    "  df[i] = df[i].fillna(mean)"
   ]
  },
  {
   "cell_type": "code",
   "execution_count": 110,
   "metadata": {
    "colab": {
     "base_uri": "https://localhost:8080/"
    },
    "id": "FHt9aqZ-_0Om",
    "outputId": "1822f4f9-77fb-425d-fec4-e779fbe1ba88"
   },
   "outputs": [
    {
     "name": "stdout",
     "output_type": "stream",
     "text": [
      "Topic A\n",
      "50.5\n",
      "21\n",
      "82\n",
      "Topic B\n",
      "44.9\n",
      "12\n",
      "92\n",
      "Topic C\n",
      "66.3\n",
      "11\n",
      "99\n",
      "Topic D\n",
      "45.7\n",
      "4\n",
      "81\n"
     ]
    }
   ],
   "source": [
    "for i in df.columns:\n",
    "  if i == \"Names\":\n",
    "    continue\n",
    "  print(i)\n",
    "\n",
    "  df[i] = df[i].astype('int32')\n",
    "  print(df[i].mean())\n",
    "  print(df[i].min())\n",
    "  print(df[i].max())\n",
    "  "
   ]
  },
  {
   "cell_type": "code",
   "execution_count": null,
   "metadata": {
    "id": "doAJ23LVIlVG"
   },
   "outputs": [],
   "source": []
  }
 ],
 "metadata": {
  "colab": {
   "provenance": []
  },
  "kernelspec": {
   "display_name": "Python 3 (ipykernel)",
   "language": "python",
   "name": "python3"
  },
  "language_info": {
   "codemirror_mode": {
    "name": "ipython",
    "version": 3
   },
   "file_extension": ".py",
   "mimetype": "text/x-python",
   "name": "python",
   "nbconvert_exporter": "python",
   "pygments_lexer": "ipython3",
   "version": "3.9.13"
  }
 },
 "nbformat": 4,
 "nbformat_minor": 4
}

{
 "cells": [
  {
   "cell_type": "markdown",
   "id": "58b80004-cdbc-4dfb-9a7c-85953717068b",
   "metadata": {},
   "source": [
    "# Create a 1-dimensional NumPy array of length 7 with random integers between 0 and 20. Insert the value 100 at the third index of the array. Then, delete the value at the fifth index of the array. Finally, calculate and print the minimum value and the unique values of the updated array"
   ]
  },
  {
   "cell_type": "code",
   "execution_count": 15,
   "id": "4a3c8c46-7b31-439b-a730-e2969d40bb35",
   "metadata": {},
   "outputs": [],
   "source": [
    "import numpy as np"
   ]
  },
  {
   "cell_type": "code",
   "execution_count": 16,
   "id": "b0b6a704-7b94-49f4-b96f-417aba79015b",
   "metadata": {},
   "outputs": [
    {
     "name": "stdout",
     "output_type": "stream",
     "text": [
      "[10 13 13 13  4  0 19]\n"
     ]
    }
   ],
   "source": [
    "a = np.random.randint(0,20,size = 7)\n",
    "print(a)\n"
   ]
  },
  {
   "cell_type": "code",
   "execution_count": 17,
   "id": "db87b84d-7b85-4490-8676-976a4914363b",
   "metadata": {},
   "outputs": [
    {
     "name": "stdout",
     "output_type": "stream",
     "text": [
      "[ 10  13 100  13  13   4   0  19]\n"
     ]
    }
   ],
   "source": [
    "a = np.insert(a,2,100)\n",
    "print(a)"
   ]
  },
  {
   "cell_type": "code",
   "execution_count": 18,
   "id": "797a16bb-35c2-4e6b-9fed-34322d296ce4",
   "metadata": {},
   "outputs": [
    {
     "name": "stdout",
     "output_type": "stream",
     "text": [
      "[ 10  13 100  13   4   0  19]\n"
     ]
    }
   ],
   "source": [
    "a = np.delete(a,4)\n",
    "print(a)"
   ]
  },
  {
   "cell_type": "code",
   "execution_count": 19,
   "id": "6ad01fa5-dc3e-4494-8a06-9cb010a6bcfd",
   "metadata": {},
   "outputs": [
    {
     "name": "stdout",
     "output_type": "stream",
     "text": [
      "0\n"
     ]
    }
   ],
   "source": [
    "print(a.min())"
   ]
  },
  {
   "cell_type": "code",
   "execution_count": 20,
   "id": "ccee28e4-de5c-4774-8978-ec91280be47a",
   "metadata": {},
   "outputs": [
    {
     "name": "stdout",
     "output_type": "stream",
     "text": [
      "[  0   4  10  13  19 100]\n"
     ]
    }
   ],
   "source": [
    "print(np.unique(a))"
   ]
  },
  {
   "cell_type": "markdown",
   "id": "f7cad0b4-3998-4f0e-b7e5-fa5a6ea2d80c",
   "metadata": {},
   "source": [
    "# Create a 2D numpy array with dimensions (3,4) and fill it with random integers between 1 and 10. Then, append a row of zeros at the end of the array, and reshape the array to (4,4). Finally, find the maximum value in the array.\n"
   ]
  },
  {
   "cell_type": "code",
   "execution_count": 37,
   "id": "e1ac0c40-4006-4c58-9ada-bff01105d72c",
   "metadata": {},
   "outputs": [
    {
     "name": "stdout",
     "output_type": "stream",
     "text": [
      "[[9 3 8 6]\n",
      " [5 9 9 8]\n",
      " [3 4 1 2]]\n"
     ]
    }
   ],
   "source": [
    "b = np.random.randint(1,10,(3,4))\n",
    "print(b)"
   ]
  },
  {
   "cell_type": "code",
   "execution_count": 38,
   "id": "03f16312-5f23-4892-a040-54da27f85ba3",
   "metadata": {},
   "outputs": [
    {
     "name": "stdout",
     "output_type": "stream",
     "text": [
      "[9. 3. 8. 6. 5. 9. 9. 8. 3. 4. 1. 2. 0. 0. 0. 0.]\n"
     ]
    }
   ],
   "source": [
    "b = np.append(b,np.zeros(4))\n",
    "print(b)"
   ]
  },
  {
   "cell_type": "code",
   "execution_count": 39,
   "id": "d4cc5d60-44c8-4e90-9236-04485bf1e597",
   "metadata": {},
   "outputs": [
    {
     "name": "stdout",
     "output_type": "stream",
     "text": [
      "[[9. 3. 8. 6.]\n",
      " [5. 9. 9. 8.]\n",
      " [3. 4. 1. 2.]\n",
      " [0. 0. 0. 0.]]\n"
     ]
    }
   ],
   "source": [
    "b = b.reshape(4,4)\n",
    "print(b)"
   ]
  },
  {
   "cell_type": "markdown",
   "id": "df5f1726-4883-46ee-a2d6-ed7861baec30",
   "metadata": {},
   "source": [
    "# Create a 2D numpy array with dimensions (4,5) and fill it with random integers between 1 and 100. Then, insert a column of ones at index 2, and delete the first row of the array. Finally, compute the mean of the remaining elements in the array"
   ]
  },
  {
   "cell_type": "code",
   "execution_count": 41,
   "id": "6af4c796-da3f-4f1c-800d-95513b99ab20",
   "metadata": {},
   "outputs": [
    {
     "name": "stdout",
     "output_type": "stream",
     "text": [
      "[[81 99 80  1 98]\n",
      " [86 11 97 44 84]\n",
      " [96 47 98 71 55]\n",
      " [12 70 48 49 74]]\n"
     ]
    }
   ],
   "source": [
    "c = np.random.randint(1,100,(4,5))\n",
    "print(c)"
   ]
  },
  {
   "cell_type": "code",
   "execution_count": 42,
   "id": "4c5977e3-48d2-4b79-bc6d-b43e45965af7",
   "metadata": {},
   "outputs": [
    {
     "name": "stdout",
     "output_type": "stream",
     "text": [
      "[[81 99  1 80  1 98]\n",
      " [86 11  1 97 44 84]\n",
      " [96 47  1 98 71 55]\n",
      " [12 70  1 48 49 74]]\n"
     ]
    }
   ],
   "source": [
    "c = np.insert(c,2,np.ones(1),axis = 1)\n",
    "print(c)"
   ]
  },
  {
   "cell_type": "code",
   "execution_count": 43,
   "id": "39c24203-b361-4afd-98b1-4e722f70c305",
   "metadata": {},
   "outputs": [
    {
     "name": "stdout",
     "output_type": "stream",
     "text": [
      "[[99  1 80  1 98]\n",
      " [11  1 97 44 84]\n",
      " [47  1 98 71 55]\n",
      " [70  1 48 49 74]]\n"
     ]
    }
   ],
   "source": [
    "c = np.delete(c,0,axis=1)\n",
    "print(c)"
   ]
  },
  {
   "cell_type": "code",
   "execution_count": 44,
   "id": "33b0cc27-7979-4fe6-979e-de81e41bb3e4",
   "metadata": {},
   "outputs": [
    {
     "name": "stdout",
     "output_type": "stream",
     "text": [
      "51.5\n"
     ]
    }
   ],
   "source": [
    "print(c.mean())"
   ]
  },
  {
   "cell_type": "markdown",
   "id": "03ef84b1-7ed9-4c8c-83dd-b6ea137a05bd",
   "metadata": {},
   "source": [
    "# Create a 3D numpy array of shape (2, 3, 4) filled with ones. Then, use the delete function to delete the second row of the second dimension. Print the resulting array"
   ]
  },
  {
   "cell_type": "code",
   "execution_count": 45,
   "id": "65324bc6-3b1e-4088-89fc-841085f21e48",
   "metadata": {},
   "outputs": [
    {
     "name": "stdout",
     "output_type": "stream",
     "text": [
      "[[[1. 1. 1. 1.]\n",
      "  [1. 1. 1. 1.]\n",
      "  [1. 1. 1. 1.]]\n",
      "\n",
      " [[1. 1. 1. 1.]\n",
      "  [1. 1. 1. 1.]\n",
      "  [1. 1. 1. 1.]]]\n"
     ]
    }
   ],
   "source": [
    "d = np.ones((2,3,4))\n",
    "print(d)"
   ]
  },
  {
   "cell_type": "code",
   "execution_count": 47,
   "id": "38882daa-6598-4ecf-aea3-a734d9c5164e",
   "metadata": {},
   "outputs": [
    {
     "name": "stdout",
     "output_type": "stream",
     "text": [
      "[[[1. 1.]\n",
      "  [1. 1.]\n",
      "  [1. 1.]]\n",
      "\n",
      " [[1. 1.]\n",
      "  [1. 1.]\n",
      "  [1. 1.]]]\n"
     ]
    }
   ],
   "source": [
    "d = np.delete(d,1,axis=2)\n",
    "print(d)"
   ]
  },
  {
   "cell_type": "markdown",
   "id": "63ab99d4-cb65-458c-b58e-210eb6bd1ab3",
   "metadata": {},
   "source": [
    "# Create a 3-dimensional numpy array with shape (2, 3, 4) and fill it with random numbers between 0 and 1. Then, reshape it into a 2-dimensional array with shape (6, 4).\n"
   ]
  },
  {
   "cell_type": "code",
   "execution_count": 49,
   "id": "cf345f39-055e-4c61-beb3-71e79a361ffd",
   "metadata": {},
   "outputs": [
    {
     "name": "stdout",
     "output_type": "stream",
     "text": [
      "[[[0 0 0 0]\n",
      "  [1 0 0 0]\n",
      "  [1 1 1 0]]\n",
      "\n",
      " [[1 0 0 0]\n",
      "  [1 1 1 0]\n",
      "  [0 1 0 1]]]\n"
     ]
    }
   ],
   "source": [
    "e = np.random.randint(0,2,(2,3,4))\n",
    "print(e)"
   ]
  },
  {
   "cell_type": "code",
   "execution_count": 50,
   "id": "c3f1c44b-ded6-48f3-a3cc-4aad09077ae2",
   "metadata": {},
   "outputs": [
    {
     "name": "stdout",
     "output_type": "stream",
     "text": [
      "[[0 0 0 0]\n",
      " [1 0 0 0]\n",
      " [1 1 1 0]\n",
      " [1 0 0 0]\n",
      " [1 1 1 0]\n",
      " [0 1 0 1]]\n"
     ]
    }
   ],
   "source": [
    "e = e.reshape((6,4))\n",
    "print(e)"
   ]
  },
  {
   "cell_type": "code",
   "execution_count": null,
   "id": "c7077138-c688-4de5-9c32-bb6bd3db3af2",
   "metadata": {},
   "outputs": [],
   "source": []
  }
 ],
 "metadata": {
  "kernelspec": {
   "display_name": "Python 3 (ipykernel)",
   "language": "python",
   "name": "python3"
  },
  "language_info": {
   "codemirror_mode": {
    "name": "ipython",
    "version": 3
   },
   "file_extension": ".py",
   "mimetype": "text/x-python",
   "name": "python",
   "nbconvert_exporter": "python",
   "pygments_lexer": "ipython3",
   "version": "3.9.13"
  }
 },
 "nbformat": 4,
 "nbformat_minor": 5
}

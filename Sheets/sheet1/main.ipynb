{
 "cells": [
  {
   "cell_type": "markdown",
   "id": "58b80004-cdbc-4dfb-9a7c-85953717068b",
   "metadata": {},
   "source": [
    "# Create a 1-dimensional NumPy array of length 7 with random integers between 0 and 20. Insert the value 100 at the third index of the array. Then, delete the value at the fifth index of the array. Finally, calculate and print the minimum value and the unique values of the updated array"
   ]
  },
  {
   "cell_type": "code",
   "execution_count": 51,
   "id": "4a3c8c46-7b31-439b-a730-e2969d40bb35",
   "metadata": {},
   "outputs": [],
   "source": [
    "import numpy as np"
   ]
  },
  {
   "cell_type": "code",
   "execution_count": 52,
   "id": "b0b6a704-7b94-49f4-b96f-417aba79015b",
   "metadata": {},
   "outputs": [
    {
     "name": "stdout",
     "output_type": "stream",
     "text": [
      "[16 17  8  4 10 16 10]\n"
     ]
    }
   ],
   "source": [
    "a = np.random.randint(0,20,size = 7)\n",
    "print(a)\n"
   ]
  },
  {
   "cell_type": "code",
   "execution_count": 53,
   "id": "db87b84d-7b85-4490-8676-976a4914363b",
   "metadata": {},
   "outputs": [
    {
     "name": "stdout",
     "output_type": "stream",
     "text": [
      "[ 16  17 100   8   4  10  16  10]\n"
     ]
    }
   ],
   "source": [
    "a = np.insert(a,2,100)\n",
    "print(a)"
   ]
  },
  {
   "cell_type": "code",
   "execution_count": 54,
   "id": "797a16bb-35c2-4e6b-9fed-34322d296ce4",
   "metadata": {},
   "outputs": [
    {
     "name": "stdout",
     "output_type": "stream",
     "text": [
      "[ 16  17 100   8  10  16  10]\n"
     ]
    }
   ],
   "source": [
    "a = np.delete(a,4)\n",
    "print(a)"
   ]
  },
  {
   "cell_type": "code",
   "execution_count": 55,
   "id": "6ad01fa5-dc3e-4494-8a06-9cb010a6bcfd",
   "metadata": {},
   "outputs": [
    {
     "name": "stdout",
     "output_type": "stream",
     "text": [
      "8\n"
     ]
    }
   ],
   "source": [
    "print(a.min())"
   ]
  },
  {
   "cell_type": "code",
   "execution_count": 56,
   "id": "ccee28e4-de5c-4774-8978-ec91280be47a",
   "metadata": {},
   "outputs": [
    {
     "name": "stdout",
     "output_type": "stream",
     "text": [
      "[  8  10  16  17 100]\n"
     ]
    }
   ],
   "source": [
    "print(np.unique(a))"
   ]
  },
  {
   "cell_type": "markdown",
   "id": "f7cad0b4-3998-4f0e-b7e5-fa5a6ea2d80c",
   "metadata": {},
   "source": [
    "# Create a 2D numpy array with dimensions (3,4) and fill it with random integers between 1 and 10. Then, append a row of zeros at the end of the array, and reshape the array to (4,4). Finally, find the maximum value in the array.\n"
   ]
  },
  {
   "cell_type": "code",
   "execution_count": 57,
   "id": "e1ac0c40-4006-4c58-9ada-bff01105d72c",
   "metadata": {},
   "outputs": [
    {
     "name": "stdout",
     "output_type": "stream",
     "text": [
      "[[7 2 9 9]\n",
      " [6 8 6 2]\n",
      " [4 8 5 5]]\n"
     ]
    }
   ],
   "source": [
    "b = np.random.randint(1,10,(3,4))\n",
    "print(b)"
   ]
  },
  {
   "cell_type": "code",
   "execution_count": 58,
   "id": "03f16312-5f23-4892-a040-54da27f85ba3",
   "metadata": {},
   "outputs": [
    {
     "name": "stdout",
     "output_type": "stream",
     "text": [
      "[7. 2. 9. 9. 6. 8. 6. 2. 4. 8. 5. 5. 0. 0. 0. 0.]\n"
     ]
    }
   ],
   "source": [
    "b = np.append(b,np.zeros(4))\n",
    "print(b)"
   ]
  },
  {
   "cell_type": "code",
   "execution_count": 59,
   "id": "d4cc5d60-44c8-4e90-9236-04485bf1e597",
   "metadata": {},
   "outputs": [
    {
     "name": "stdout",
     "output_type": "stream",
     "text": [
      "[[7. 2. 9. 9.]\n",
      " [6. 8. 6. 2.]\n",
      " [4. 8. 5. 5.]\n",
      " [0. 0. 0. 0.]]\n"
     ]
    }
   ],
   "source": [
    "b = b.reshape(4,4)\n",
    "print(b)"
   ]
  },
  {
   "cell_type": "markdown",
   "id": "df5f1726-4883-46ee-a2d6-ed7861baec30",
   "metadata": {},
   "source": [
    "# Create a 2D numpy array with dimensions (4,5) and fill it with random integers between 1 and 100. Then, insert a column of ones at index 2, and delete the first row of the array. Finally, compute the mean of the remaining elements in the array"
   ]
  },
  {
   "cell_type": "code",
   "execution_count": 60,
   "id": "6af4c796-da3f-4f1c-800d-95513b99ab20",
   "metadata": {},
   "outputs": [
    {
     "name": "stdout",
     "output_type": "stream",
     "text": [
      "[[33 55  7 32 76]\n",
      " [19 12 92 52 25]\n",
      " [91 53 12 60 82]\n",
      " [37 21 56 64 72]]\n"
     ]
    }
   ],
   "source": [
    "c = np.random.randint(1,100,(4,5))\n",
    "print(c)"
   ]
  },
  {
   "cell_type": "code",
   "execution_count": 61,
   "id": "4c5977e3-48d2-4b79-bc6d-b43e45965af7",
   "metadata": {},
   "outputs": [
    {
     "name": "stdout",
     "output_type": "stream",
     "text": [
      "[[33 55  1  7 32 76]\n",
      " [19 12  1 92 52 25]\n",
      " [91 53  1 12 60 82]\n",
      " [37 21  1 56 64 72]]\n"
     ]
    }
   ],
   "source": [
    "c = np.insert(c,2,np.ones(1),axis = 1)\n",
    "print(c)"
   ]
  },
  {
   "cell_type": "code",
   "execution_count": 62,
   "id": "39c24203-b361-4afd-98b1-4e722f70c305",
   "metadata": {},
   "outputs": [
    {
     "name": "stdout",
     "output_type": "stream",
     "text": [
      "[[55  1  7 32 76]\n",
      " [12  1 92 52 25]\n",
      " [53  1 12 60 82]\n",
      " [21  1 56 64 72]]\n"
     ]
    }
   ],
   "source": [
    "c = np.delete(c,0,axis=1)\n",
    "print(c)"
   ]
  },
  {
   "cell_type": "code",
   "execution_count": 63,
   "id": "33b0cc27-7979-4fe6-979e-de81e41bb3e4",
   "metadata": {},
   "outputs": [
    {
     "name": "stdout",
     "output_type": "stream",
     "text": [
      "38.75\n"
     ]
    }
   ],
   "source": [
    "print(c.mean())"
   ]
  },
  {
   "cell_type": "markdown",
   "id": "03ef84b1-7ed9-4c8c-83dd-b6ea137a05bd",
   "metadata": {},
   "source": [
    "# Create a 3D numpy array of shape (2, 3, 4) filled with ones. Then, use the delete function to delete the second row of the second dimension. Print the resulting array"
   ]
  },
  {
   "cell_type": "code",
   "execution_count": 69,
   "id": "65324bc6-3b1e-4088-89fc-841085f21e48",
   "metadata": {},
   "outputs": [
    {
     "name": "stdout",
     "output_type": "stream",
     "text": [
      "[[[1. 1. 1. 1.]\n",
      "  [1. 1. 1. 1.]\n",
      "  [1. 1. 1. 1.]]\n",
      "\n",
      " [[1. 1. 1. 1.]\n",
      "  [1. 1. 1. 1.]\n",
      "  [1. 1. 1. 1.]]]\n"
     ]
    }
   ],
   "source": [
    "d = np.ones((2,3,4))\n",
    "print(d)"
   ]
  },
  {
   "cell_type": "code",
   "execution_count": 70,
   "id": "38882daa-6598-4ecf-aea3-a734d9c5164e",
   "metadata": {},
   "outputs": [
    {
     "name": "stdout",
     "output_type": "stream",
     "text": [
      "[[[1. 1. 1.]\n",
      "  [1. 1. 1.]\n",
      "  [1. 1. 1.]]\n",
      "\n",
      " [[1. 1. 1.]\n",
      "  [1. 1. 1.]\n",
      "  [1. 1. 1.]]] (2, 3, 3)\n"
     ]
    }
   ],
   "source": [
    "d = np.delete(d,1,axis=2)\n",
    "print(d,d.shape)"
   ]
  },
  {
   "cell_type": "markdown",
   "id": "63ab99d4-cb65-458c-b58e-210eb6bd1ab3",
   "metadata": {},
   "source": [
    "# Create a 3-dimensional numpy array with shape (2, 3, 4) and fill it with random numbers between 0 and 1. Then, reshape it into a 2-dimensional array with shape (6, 4).\n"
   ]
  },
  {
   "cell_type": "code",
   "execution_count": 66,
   "id": "cf345f39-055e-4c61-beb3-71e79a361ffd",
   "metadata": {},
   "outputs": [
    {
     "name": "stdout",
     "output_type": "stream",
     "text": [
      "[[[0 0 1 1]\n",
      "  [0 1 1 1]\n",
      "  [1 0 0 1]]\n",
      "\n",
      " [[1 0 1 1]\n",
      "  [1 0 0 0]\n",
      "  [0 1 1 0]]]\n"
     ]
    }
   ],
   "source": [
    "e = np.random.randint(0,2,(2,3,4))\n",
    "print(e)"
   ]
  },
  {
   "cell_type": "code",
   "execution_count": 67,
   "id": "c3f1c44b-ded6-48f3-a3cc-4aad09077ae2",
   "metadata": {},
   "outputs": [
    {
     "name": "stdout",
     "output_type": "stream",
     "text": [
      "[[0 0 1 1]\n",
      " [0 1 1 1]\n",
      " [1 0 0 1]\n",
      " [1 0 1 1]\n",
      " [1 0 0 0]\n",
      " [0 1 1 0]]\n"
     ]
    }
   ],
   "source": [
    "e = e.reshape((6,4))\n",
    "print(e)"
   ]
  },
  {
   "cell_type": "code",
   "execution_count": null,
   "id": "c81044c2-d0c5-4cfc-aef4-eaa8f56d6b40",
   "metadata": {},
   "outputs": [],
   "source": []
  }
 ],
 "metadata": {
  "kernelspec": {
   "display_name": "Python 3 (ipykernel)",
   "language": "python",
   "name": "python3"
  },
  "language_info": {
   "codemirror_mode": {
    "name": "ipython",
    "version": 3
   },
   "file_extension": ".py",
   "mimetype": "text/x-python",
   "name": "python",
   "nbconvert_exporter": "python",
   "pygments_lexer": "ipython3",
   "version": "3.9.13"
  }
 },
 "nbformat": 4,
 "nbformat_minor": 5
}

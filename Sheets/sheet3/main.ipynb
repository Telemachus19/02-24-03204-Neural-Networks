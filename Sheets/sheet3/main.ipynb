{
 "cells": [
  {
   "cell_type": "code",
   "execution_count": 70,
   "id": "aaab839c-b31e-4148-948f-4f95e4a5c8f5",
   "metadata": {},
   "outputs": [],
   "source": [
    "import numpy as np\n",
    "from sklearn.metrics import accuracy_score"
   ]
  },
  {
   "cell_type": "code",
   "execution_count": 71,
   "id": "f1a832db-9a0b-4f2e-97f7-9a03f03d15cf",
   "metadata": {},
   "outputs": [],
   "source": [
    "# Define the MSE error function\n",
    "def mse(actual,predicted):\n",
    "  return ((actual-predicted).sum()**2)/len(actual)\n",
    "# define the sign activation function.\n",
    "def sign(x):\n",
    "  return np.where(x>=0 , 1 ,-1)"
   ]
  },
  {
   "cell_type": "code",
   "execution_count": 72,
   "id": "c683cb51-c564-4e67-9a99-736f7bc2bd1a",
   "metadata": {},
   "outputs": [],
   "source": [
    "def learn(X,Y,alpha,bias,W,iteration):\n",
    "    n_features = X.shape[1]\n",
    "    for epoch in range(iteration-1):\n",
    "        Z = np.dot(X,W) + bias\n",
    "        Yhat = sign(Z)\n",
    "        MSE = mse(Y,Yhat)\n",
    "        for i in range(n_features):\n",
    "            W[i] = W[i] + (alpha * ((MSE * X[:,i]).sum()))\n",
    "            bias = bias + alpha*(MSE)\n",
    "    return (Yhat,W)"
   ]
  },
  {
   "cell_type": "code",
   "execution_count": 73,
   "id": "18450e60-8349-415f-b1b3-4279a4b3c73b",
   "metadata": {},
   "outputs": [
    {
     "name": "stdout",
     "output_type": "stream",
     "text": [
      "\n",
      "Prediction: [1 1 1 1]\n",
      "Weight of Y_hat: [-0.396  0.26   0.592]\n",
      "The accuracy of the model: 0.5\n"
     ]
    }
   ],
   "source": [
    "X = np.array(\n",
    "    [\n",
    "        [0.2,0.5,0.7],\n",
    "        [0.1,0.3,0.6],\n",
    "        [0.4,0.8,0.2],\n",
    "        [0.6,0.4,0.9]\n",
    "    ])\n",
    "print()\n",
    "\n",
    "weight = np.array(\n",
    "    [-0.5,0.1,0.4])\n",
    "\n",
    "Y = np.array(\n",
    "    [1,-1,1,-1])\n",
    "Yhat,Yhatweight = learn(X,Y,0.01,0.2,weight,3)\n",
    "print(\"Prediction:\",Yhat)\n",
    "print(\"Weight of Y_hat:\",Yhatweight)\n",
    "print(\"The accuracy of the model:\",accuracy_score(Yhat,outp))"
   ]
  }
 ],
 "metadata": {
  "kernelspec": {
   "display_name": "Python 3 (ipykernel)",
   "language": "python",
   "name": "python3"
  },
  "language_info": {
   "codemirror_mode": {
    "name": "ipython",
    "version": 3
   },
   "file_extension": ".py",
   "mimetype": "text/x-python",
   "name": "python",
   "nbconvert_exporter": "python",
   "pygments_lexer": "ipython3",
   "version": "3.9.13"
  }
 },
 "nbformat": 4,
 "nbformat_minor": 5
}
